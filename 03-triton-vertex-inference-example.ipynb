{
 "cells": [
  {
   "cell_type": "markdown",
   "metadata": {
    "id": "jirdTjhETQW0"
   },
   "source": [
    "# **redis-feast-gcp**: 03 - Triton + Vertex AI Prediction Inference Example\n",
    "\n",
    "Here we will test the deployed Triton model on the Vertex AI Prediction endpoint.\n",
    "\n",
    "**This notebook assumes that you've already set up your feature store, model repo in GCP, and deployed your model in Vertex AI with NVIDIA Triton**"
   ]
  },
  {
   "cell_type": "markdown",
   "metadata": {},
   "source": [
    "![architecture](img/redis-feast-gcp-architecture.png)"
   ]
  },
  {
   "cell_type": "markdown",
   "metadata": {},
   "source": [
    "## Create Inference Instances\n",
    "\n",
    "Before we can test the Vertex AI Prediction endpoint, we need to construct a JSON body that represents an inference request. See the example below:"
   ]
  },
  {
   "cell_type": "code",
   "execution_count": null,
   "metadata": {},
   "outputs": [],
   "source": [
    "import json\n",
    "\n",
    "payload = {\n",
    "    \"id\": \"1\",\n",
    "    \"inputs\": [\n",
    "        {\n",
    "            \"name\": \"INPUT\",        ## Triton model input name\n",
    "            \"shape\": [1, 1],        ## Triton model input shape\n",
    "            \"datatype\": \"BYTES\",    ## Triton model input datatype\n",
    "            \"data\": [[\"Virginia\"]]  ## Triton model input data\n",
    "        }\n",
    "    ]\n",
    "}\n",
    "\n",
    "# Save to file\n",
    "with open(\"instances.json\", \"w\") as f:\n",
    "    json.dump(payload, f)\n"
   ]
  },
  {
   "cell_type": "markdown",
   "metadata": {
    "id": "6cJFAJiuGxM3"
   },
   "source": [
    "## Test Endpoint\n",
    "\n",
    "You can test the Vertex AI Prediction `rawPredict` endpoint using any HTTP tool or library, including `curl`."
   ]
  },
  {
   "cell_type": "code",
   "execution_count": null,
   "metadata": {},
   "outputs": [],
   "source": [
    "# Log in to GCloud using the CLI and your service account\n",
    "!gcloud auth activate-service-account $SERVICE_ACCOUNT_EMAIL \\\n",
    "    --key-file=$GOOGLE_APPLICATION_CREDENTIALS \\\n",
    "    --project=$PROJECT_ID"
   ]
  },
  {
   "cell_type": "code",
   "execution_count": null,
   "metadata": {},
   "outputs": [],
   "source": [
    "!echo $(gcloud ai endpoints list \\\n",
    "  --region=$GCP_REGION \\\n",
    "  --filter=display_name=vaccine-predictor-endpoint \\\n",
    "  --format=\"value(name)\")"
   ]
  },
  {
   "cell_type": "code",
   "execution_count": null,
   "metadata": {},
   "outputs": [],
   "source": [
    "%%bash\n",
    "\n",
    "# Fetch Token\n",
    "TOKEN=$(gcloud auth print-access-token)\n",
    "\n",
    "# Fetch the Endpoint ID\n",
    "ENDPOINT_ID=$(gcloud ai endpoints list \\\n",
    "  --region=$GCP_REGION \\\n",
    "  --filter=display_name=vaccine-predictor-endpoint \\\n",
    "  --format=\"value(name)\")\n",
    "\n",
    "# POST to the endpoint to get a response from the Triton ensemble model\n",
    "curl \\\n",
    "  -X POST \\\n",
    "  -H \"Authorization: Bearer ${TOKEN}\" \\\n",
    "  -H \"Content-Type: application/json\" \\\n",
    "  https://${GCP_REGION}-aiplatform.googleapis.com/v1/projects/${PROJECT_ID}/locations/us-east1/endpoints/${ENDPOINT_ID}:rawPredict \\\n",
    "  -d \"@instances.json\"\n"
   ]
  }
 ],
 "metadata": {
  "colab": {
   "collapsed_sections": [],
   "name": "Fraud Detection Tutorial",
   "provenance": [],
   "toc_visible": true
  },
  "kernelspec": {
   "display_name": "Python 3 (ipykernel)",
   "language": "python",
   "name": "python3"
  },
  "language_info": {
   "codemirror_mode": {
    "name": "ipython",
    "version": 3
   },
   "file_extension": ".py",
   "mimetype": "text/x-python",
   "name": "python",
   "nbconvert_exporter": "python",
   "pygments_lexer": "ipython3",
   "version": "3.8.13"
  },
  "vscode": {
   "interpreter": {
    "hash": "e1c5a7c9cc0d58080444e081b74a0823c09a12f0209aca730c38726ea6940124"
   }
  }
 },
 "nbformat": 4,
 "nbformat_minor": 4
}
