{
 "cells": [
  {
   "cell_type": "markdown",
   "metadata": {
    "id": "jirdTjhETQW0"
   },
   "source": [
    "# **redis-feast-gcp**: 00 - Feature Store Intro\n",
    "\n",
    "Explore the setup and use of a Feature Store, deployed in GCP, and backed by Redis as the online store component.\n",
    "\n",
    "**This notebook assumes that you've already set up your feature store and model repo in GCP**"
   ]
  },
  {
   "cell_type": "markdown",
   "metadata": {},
   "source": [
    "![architecture](img/redis-feast-gcp-architecture.png)"
   ]
  },
  {
   "cell_type": "markdown",
   "metadata": {
    "id": "WX6daujBVgZ5"
   },
   "source": [
    "## Install Dependencies\n",
    "\n",
    "Pip install the feature_store package to use the provided tools."
   ]
  },
  {
   "cell_type": "code",
   "execution_count": null,
   "metadata": {
    "colab": {
     "base_uri": "https://localhost:8080/"
    },
    "id": "S51NR-oPVsjg",
    "outputId": "f57f3327-c954-4af6-81e6-0be7b4f638fe",
    "tags": []
   },
   "outputs": [],
   "source": [
    "!pip install pandas \"feast[gcp, redis]==0.22.0\" matplotlib"
   ]
  },
  {
   "cell_type": "code",
   "execution_count": null,
   "metadata": {},
   "outputs": [],
   "source": [
    "# Automatically restart kernel after installs\n",
    "import IPython\n",
    "\n",
    "app = IPython.Application.instance()\n",
    "app.kernel.do_shutdown(True)"
   ]
  },
  {
   "cell_type": "markdown",
   "metadata": {
    "id": "6cJFAJiuGxM3"
   },
   "source": [
    "# Fetching Historical Data\n",
    "\n",
    "The Feast SDK allows us to pull historical data to generate a training dataset. In this cae, the data comes from BigQuery tables.\n",
    "\n",
    "To make things simpler, we use the [`DataFetcher`](utils/data_fetcher.py) class that wraps Feast, which wraps Redis and BigQuery."
   ]
  },
  {
   "cell_type": "code",
   "execution_count": null,
   "metadata": {},
   "outputs": [],
   "source": [
    "from feature_store.repo import config\n",
    "from feature_store.utils import (\n",
    "    DataFetcher,\n",
    "    storage\n",
    ")\n",
    "\n",
    "# Load Feast feature store\n",
    "fs = storage.get_feature_store(\n",
    "    config_path=config.REPO_CONFIG,\n",
    "    bucket_name=config.BUCKET_NAME\n",
    ")\n",
    "\n",
    "# Load data fetcher utility class\n",
    "data_fetcher = DataFetcher(fs)"
   ]
  },
  {
   "cell_type": "code",
   "execution_count": null,
   "metadata": {},
   "outputs": [],
   "source": [
    "# The data fetcher class contains the list of input features to use for model training\n",
    "print(data_fetcher.X_cols)\n",
    "\n",
    "print(data_fetcher.y_col)"
   ]
  },
  {
   "cell_type": "code",
   "execution_count": null,
   "metadata": {
    "colab": {
     "base_uri": "https://localhost:8080/",
     "height": 330
    },
    "id": "BqgiEP2Oz42q",
    "outputId": "40552317-644b-4ee6-d735-0ee5e48e79dd"
   },
   "outputs": [],
   "source": [
    "# Fetch historical training data with Feast\n",
    "ds = data_fetcher.get_training_data(\n",
    "    entity_query=f\"\"\"\n",
    "        select\n",
    "            state,\n",
    "            date as event_timestamp\n",
    "        from\n",
    "            {config.BIGQUERY_DATASET_NAME}.{config.WEEKLY_VACCINATIONS_TABLE}\n",
    "    \"\"\"\n",
    ")\n",
    "\n",
    "# Clean up any nulls\n",
    "ds.dropna(inplace=True)\n",
    "ds.sort_values(['event_timestamp', 'state'], axis=0, inplace=True)"
   ]
  },
  {
   "cell_type": "code",
   "execution_count": null,
   "metadata": {},
   "outputs": [],
   "source": [
    "# Subset the data to the state of Virginia (in the US)\n",
    "virginia = ds[ds.state == 'Virginia']"
   ]
  },
  {
   "cell_type": "code",
   "execution_count": null,
   "metadata": {},
   "outputs": [],
   "source": [
    "virginia.head()"
   ]
  },
  {
   "cell_type": "code",
   "execution_count": null,
   "metadata": {},
   "outputs": [],
   "source": [
    "virginia.tail()"
   ]
  },
  {
   "cell_type": "code",
   "execution_count": null,
   "metadata": {},
   "outputs": [],
   "source": [
    "virginia.weekly_vaccinations_count.describe()"
   ]
  },
  {
   "cell_type": "code",
   "execution_count": null,
   "metadata": {},
   "outputs": [],
   "source": [
    "# Investigate trends across features for prediction weekly vaccinations count!\n",
    "virginia.plot.scatter(y='weekly_vaccinations_count', x='lag_2_vaccine_interest')"
   ]
  },
  {
   "cell_type": "markdown",
   "metadata": {},
   "source": [
    "## Low latency feature retrieval\n",
    "\n",
    "To make a prediction in real-time, we need to do the following:\n",
    "\n",
    "1. Fetch our features from Redis using the Feast client\n",
    "2. Pass these features to our model\n",
    "3. Return these predictions to the user\n",
    "\n",
    "Here is an example pulling the latest features data from Redis (online store) for the state of Virginia"
   ]
  },
  {
   "cell_type": "code",
   "execution_count": null,
   "metadata": {},
   "outputs": [],
   "source": [
    "# Fetch online feature\n",
    "online_feature = data_fetcher.get_online_data(state=\"Virginia\")"
   ]
  },
  {
   "cell_type": "code",
   "execution_count": null,
   "metadata": {},
   "outputs": [],
   "source": [
    "online_feature"
   ]
  }
 ],
 "metadata": {
  "colab": {
   "collapsed_sections": [],
   "name": "Fraud Detection Tutorial",
   "provenance": [],
   "toc_visible": true
  },
  "kernelspec": {
   "display_name": "Python 3 (ipykernel)",
   "language": "python",
   "name": "python3"
  },
  "language_info": {
   "codemirror_mode": {
    "name": "ipython",
    "version": 3
   },
   "file_extension": ".py",
   "mimetype": "text/x-python",
   "name": "python",
   "nbconvert_exporter": "python",
   "pygments_lexer": "ipython3",
   "version": "3.8.13"
  },
  "vscode": {
   "interpreter": {
    "hash": "e1c5a7c9cc0d58080444e081b74a0823c09a12f0209aca730c38726ea6940124"
   }
  }
 },
 "nbformat": 4,
 "nbformat_minor": 4
}
