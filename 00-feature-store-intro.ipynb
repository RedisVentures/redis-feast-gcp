{
 "cells": [
  {
   "cell_type": "markdown",
   "metadata": {
    "id": "jirdTjhETQW0"
   },
   "source": [
    "# **redis-feast-gcp**: 00 - Feature Store Intro\n",
    "\n",
    "In this notebook, we will explore how a Feature Store works using Feast.\n",
    "\n",
    "**This notebook assumes that you've already set up your Feature Store in GCP using the `setup` instructions in the README.**"
   ]
  },
  {
   "cell_type": "markdown",
   "metadata": {},
   "source": [
    "![architecture](img/redis-feast-gcp-architecture.png)"
   ]
  },
  {
   "cell_type": "markdown",
   "metadata": {
    "id": "6cJFAJiuGxM3"
   },
   "source": [
    "## Fetching Historical Data\n",
    "\n",
    "The Feast SDK allows us to pull historical data to generate a training dataset. In this cae, the data comes from BigQuery tables, but unbeknownst to the user.\n",
    "\n",
    "To make things simpler, we use the [`DataFetcher`](utils/data_fetcher.py) class that wraps the Feast Python client."
   ]
  },
  {
   "cell_type": "code",
   "execution_count": 1,
   "metadata": {},
   "outputs": [
    {
     "name": "stdout",
     "output_type": "stream",
     "text": [
      "Feast is an open source project that collects anonymized error reporting and usage statistics. To opt out or learn more see https://docs.feast.dev/reference/usage\n"
     ]
    }
   ],
   "source": [
    "from feature_store.repo import config\n",
    "from feature_store.utils import (\n",
    "    DataFetcher,\n",
    "    storage\n",
    ")\n",
    "\n",
    "# Load Feast feature store\n",
    "fs = storage.get_feature_store(\n",
    "    config_path=config.REPO_CONFIG,\n",
    "    bucket_name=config.BUCKET_NAME\n",
    ")\n",
    "\n",
    "# Load DataFetcher utility class\n",
    "data_fetcher = DataFetcher(fs)"
   ]
  },
  {
   "cell_type": "code",
   "execution_count": 2,
   "metadata": {},
   "outputs": [
    {
     "name": "stdout",
     "output_type": "stream",
     "text": [
      "['lag_1_vaccine_interest', 'lag_2_vaccine_interest', 'lag_1_vaccine_intent', 'lag_2_vaccine_intent', 'lag_1_vaccine_safety', 'lag_2_vaccine_safety', 'lag_1_weekly_vaccinations_count', 'lag_2_weekly_vaccinations_count']\n",
      "['weekly_vaccinations_count']\n"
     ]
    }
   ],
   "source": [
    "# The data fetcher class contains the list of input features to use for model training\n",
    "print(data_fetcher.X_cols)\n",
    "\n",
    "print(data_fetcher.y_col)"
   ]
  },
  {
   "cell_type": "code",
   "execution_count": 3,
   "metadata": {
    "colab": {
     "base_uri": "https://localhost:8080/",
     "height": 330
    },
    "id": "BqgiEP2Oz42q",
    "outputId": "40552317-644b-4ee6-d735-0ee5e48e79dd"
   },
   "outputs": [],
   "source": [
    "# Fetch historical training data with Feast\n",
    "ds = data_fetcher.get_training_data(\n",
    "    entity_query=f\"\"\"\n",
    "        select\n",
    "            state,\n",
    "            date as event_timestamp\n",
    "        from\n",
    "            {config.BIGQUERY_DATASET_NAME}.{config.WEEKLY_VACCINATIONS_TABLE}\n",
    "    \"\"\"\n",
    ")\n",
    "\n",
    "# Clean up any nulls\n",
    "ds.dropna(inplace=True)\n",
    "ds.sort_values(['event_timestamp', 'state'], axis=0, inplace=True)"
   ]
  },
  {
   "cell_type": "code",
   "execution_count": 4,
   "metadata": {},
   "outputs": [],
   "source": [
    "# Subset the data to the state of Virginia (in the US)\n",
    "virginia = ds[ds.state == 'Virginia']"
   ]
  },
  {
   "cell_type": "code",
   "execution_count": 5,
   "metadata": {},
   "outputs": [
    {
     "data": {
      "text/html": [
       "<div>\n",
       "<style scoped>\n",
       "    .dataframe tbody tr th:only-of-type {\n",
       "        vertical-align: middle;\n",
       "    }\n",
       "\n",
       "    .dataframe tbody tr th {\n",
       "        vertical-align: top;\n",
       "    }\n",
       "\n",
       "    .dataframe thead th {\n",
       "        text-align: right;\n",
       "    }\n",
       "</style>\n",
       "<table border=\"1\" class=\"dataframe\">\n",
       "  <thead>\n",
       "    <tr style=\"text-align: right;\">\n",
       "      <th></th>\n",
       "      <th>state</th>\n",
       "      <th>event_timestamp</th>\n",
       "      <th>lag_1_vaccine_interest</th>\n",
       "      <th>lag_2_vaccine_interest</th>\n",
       "      <th>lag_1_vaccine_intent</th>\n",
       "      <th>lag_2_vaccine_intent</th>\n",
       "      <th>lag_1_vaccine_safety</th>\n",
       "      <th>lag_2_vaccine_safety</th>\n",
       "      <th>lag_1_weekly_vaccinations_count</th>\n",
       "      <th>lag_2_weekly_vaccinations_count</th>\n",
       "      <th>weekly_vaccinations_count</th>\n",
       "    </tr>\n",
       "  </thead>\n",
       "  <tbody>\n",
       "    <tr>\n",
       "      <th>3267</th>\n",
       "      <td>Virginia</td>\n",
       "      <td>2021-01-25 00:00:00+00:00</td>\n",
       "      <td>62.549712</td>\n",
       "      <td>64.178025</td>\n",
       "      <td>22.662099</td>\n",
       "      <td>25.802051</td>\n",
       "      <td>9.102064</td>\n",
       "      <td>8.580120</td>\n",
       "      <td>152933</td>\n",
       "      <td>115553.0</td>\n",
       "      <td>329892.0</td>\n",
       "    </tr>\n",
       "    <tr>\n",
       "      <th>3331</th>\n",
       "      <td>Virginia</td>\n",
       "      <td>2021-02-01 00:00:00+00:00</td>\n",
       "      <td>59.771108</td>\n",
       "      <td>62.549712</td>\n",
       "      <td>23.881589</td>\n",
       "      <td>22.662099</td>\n",
       "      <td>9.060282</td>\n",
       "      <td>9.102064</td>\n",
       "      <td>329892</td>\n",
       "      <td>152933.0</td>\n",
       "      <td>278811.0</td>\n",
       "    </tr>\n",
       "    <tr>\n",
       "      <th>3279</th>\n",
       "      <td>Virginia</td>\n",
       "      <td>2021-02-08 00:00:00+00:00</td>\n",
       "      <td>71.490393</td>\n",
       "      <td>59.771108</td>\n",
       "      <td>35.214495</td>\n",
       "      <td>23.881589</td>\n",
       "      <td>11.884993</td>\n",
       "      <td>9.060282</td>\n",
       "      <td>278811</td>\n",
       "      <td>329892.0</td>\n",
       "      <td>266744.0</td>\n",
       "    </tr>\n",
       "    <tr>\n",
       "      <th>3251</th>\n",
       "      <td>Virginia</td>\n",
       "      <td>2021-02-15 00:00:00+00:00</td>\n",
       "      <td>67.818582</td>\n",
       "      <td>71.490393</td>\n",
       "      <td>34.463701</td>\n",
       "      <td>35.214495</td>\n",
       "      <td>12.675395</td>\n",
       "      <td>11.884993</td>\n",
       "      <td>266744</td>\n",
       "      <td>278811.0</td>\n",
       "      <td>318139.0</td>\n",
       "    </tr>\n",
       "    <tr>\n",
       "      <th>3268</th>\n",
       "      <td>Virginia</td>\n",
       "      <td>2021-02-22 00:00:00+00:00</td>\n",
       "      <td>72.135382</td>\n",
       "      <td>67.818582</td>\n",
       "      <td>34.295162</td>\n",
       "      <td>34.463701</td>\n",
       "      <td>14.205749</td>\n",
       "      <td>12.675395</td>\n",
       "      <td>318139</td>\n",
       "      <td>266744.0</td>\n",
       "      <td>344859.0</td>\n",
       "    </tr>\n",
       "  </tbody>\n",
       "</table>\n",
       "</div>"
      ],
      "text/plain": [
       "         state           event_timestamp  lag_1_vaccine_interest  \\\n",
       "3267  Virginia 2021-01-25 00:00:00+00:00               62.549712   \n",
       "3331  Virginia 2021-02-01 00:00:00+00:00               59.771108   \n",
       "3279  Virginia 2021-02-08 00:00:00+00:00               71.490393   \n",
       "3251  Virginia 2021-02-15 00:00:00+00:00               67.818582   \n",
       "3268  Virginia 2021-02-22 00:00:00+00:00               72.135382   \n",
       "\n",
       "      lag_2_vaccine_interest  lag_1_vaccine_intent  lag_2_vaccine_intent  \\\n",
       "3267               64.178025             22.662099             25.802051   \n",
       "3331               62.549712             23.881589             22.662099   \n",
       "3279               59.771108             35.214495             23.881589   \n",
       "3251               71.490393             34.463701             35.214495   \n",
       "3268               67.818582             34.295162             34.463701   \n",
       "\n",
       "      lag_1_vaccine_safety  lag_2_vaccine_safety  \\\n",
       "3267              9.102064              8.580120   \n",
       "3331              9.060282              9.102064   \n",
       "3279             11.884993              9.060282   \n",
       "3251             12.675395             11.884993   \n",
       "3268             14.205749             12.675395   \n",
       "\n",
       "      lag_1_weekly_vaccinations_count  lag_2_weekly_vaccinations_count  \\\n",
       "3267                           152933                         115553.0   \n",
       "3331                           329892                         152933.0   \n",
       "3279                           278811                         329892.0   \n",
       "3251                           266744                         278811.0   \n",
       "3268                           318139                         266744.0   \n",
       "\n",
       "      weekly_vaccinations_count  \n",
       "3267                   329892.0  \n",
       "3331                   278811.0  \n",
       "3279                   266744.0  \n",
       "3251                   318139.0  \n",
       "3268                   344859.0  "
      ]
     },
     "execution_count": 5,
     "metadata": {},
     "output_type": "execute_result"
    }
   ],
   "source": [
    "# Inspect part of the dataset for Virginia\n",
    "virginia.head()"
   ]
  },
  {
   "cell_type": "code",
   "execution_count": 6,
   "metadata": {},
   "outputs": [
    {
     "data": {
      "text/html": [
       "<div>\n",
       "<style scoped>\n",
       "    .dataframe tbody tr th:only-of-type {\n",
       "        vertical-align: middle;\n",
       "    }\n",
       "\n",
       "    .dataframe tbody tr th {\n",
       "        vertical-align: top;\n",
       "    }\n",
       "\n",
       "    .dataframe thead th {\n",
       "        text-align: right;\n",
       "    }\n",
       "</style>\n",
       "<table border=\"1\" class=\"dataframe\">\n",
       "  <thead>\n",
       "    <tr style=\"text-align: right;\">\n",
       "      <th></th>\n",
       "      <th>state</th>\n",
       "      <th>event_timestamp</th>\n",
       "      <th>lag_1_vaccine_interest</th>\n",
       "      <th>lag_2_vaccine_interest</th>\n",
       "      <th>lag_1_vaccine_intent</th>\n",
       "      <th>lag_2_vaccine_intent</th>\n",
       "      <th>lag_1_vaccine_safety</th>\n",
       "      <th>lag_2_vaccine_safety</th>\n",
       "      <th>lag_1_weekly_vaccinations_count</th>\n",
       "      <th>lag_2_weekly_vaccinations_count</th>\n",
       "      <th>weekly_vaccinations_count</th>\n",
       "    </tr>\n",
       "  </thead>\n",
       "  <tbody>\n",
       "    <tr>\n",
       "      <th>3304</th>\n",
       "      <td>Virginia</td>\n",
       "      <td>2023-01-02 00:00:00+00:00</td>\n",
       "      <td>10.72945</td>\n",
       "      <td>11.383411</td>\n",
       "      <td>1.831109</td>\n",
       "      <td>2.094199</td>\n",
       "      <td>1.352006</td>\n",
       "      <td>1.276527</td>\n",
       "      <td>46707</td>\n",
       "      <td>65773.0</td>\n",
       "      <td>46312.0</td>\n",
       "    </tr>\n",
       "    <tr>\n",
       "      <th>3295</th>\n",
       "      <td>Virginia</td>\n",
       "      <td>2023-01-09 00:00:00+00:00</td>\n",
       "      <td>10.72945</td>\n",
       "      <td>11.383411</td>\n",
       "      <td>1.831109</td>\n",
       "      <td>2.094199</td>\n",
       "      <td>1.352006</td>\n",
       "      <td>1.276527</td>\n",
       "      <td>46312</td>\n",
       "      <td>46707.0</td>\n",
       "      <td>45059.0</td>\n",
       "    </tr>\n",
       "    <tr>\n",
       "      <th>3242</th>\n",
       "      <td>Virginia</td>\n",
       "      <td>2023-01-16 00:00:00+00:00</td>\n",
       "      <td>10.72945</td>\n",
       "      <td>11.383411</td>\n",
       "      <td>1.831109</td>\n",
       "      <td>2.094199</td>\n",
       "      <td>1.352006</td>\n",
       "      <td>1.276527</td>\n",
       "      <td>45059</td>\n",
       "      <td>46312.0</td>\n",
       "      <td>37554.0</td>\n",
       "    </tr>\n",
       "    <tr>\n",
       "      <th>3243</th>\n",
       "      <td>Virginia</td>\n",
       "      <td>2023-01-23 00:00:00+00:00</td>\n",
       "      <td>10.72945</td>\n",
       "      <td>11.383411</td>\n",
       "      <td>1.831109</td>\n",
       "      <td>2.094199</td>\n",
       "      <td>1.352006</td>\n",
       "      <td>1.276527</td>\n",
       "      <td>37554</td>\n",
       "      <td>45059.0</td>\n",
       "      <td>27998.0</td>\n",
       "    </tr>\n",
       "    <tr>\n",
       "      <th>3339</th>\n",
       "      <td>Virginia</td>\n",
       "      <td>2023-01-30 00:00:00+00:00</td>\n",
       "      <td>10.72945</td>\n",
       "      <td>11.383411</td>\n",
       "      <td>1.831109</td>\n",
       "      <td>2.094199</td>\n",
       "      <td>1.352006</td>\n",
       "      <td>1.276527</td>\n",
       "      <td>27998</td>\n",
       "      <td>37554.0</td>\n",
       "      <td>6770.0</td>\n",
       "    </tr>\n",
       "  </tbody>\n",
       "</table>\n",
       "</div>"
      ],
      "text/plain": [
       "         state           event_timestamp  lag_1_vaccine_interest  \\\n",
       "3304  Virginia 2023-01-02 00:00:00+00:00                10.72945   \n",
       "3295  Virginia 2023-01-09 00:00:00+00:00                10.72945   \n",
       "3242  Virginia 2023-01-16 00:00:00+00:00                10.72945   \n",
       "3243  Virginia 2023-01-23 00:00:00+00:00                10.72945   \n",
       "3339  Virginia 2023-01-30 00:00:00+00:00                10.72945   \n",
       "\n",
       "      lag_2_vaccine_interest  lag_1_vaccine_intent  lag_2_vaccine_intent  \\\n",
       "3304               11.383411              1.831109              2.094199   \n",
       "3295               11.383411              1.831109              2.094199   \n",
       "3242               11.383411              1.831109              2.094199   \n",
       "3243               11.383411              1.831109              2.094199   \n",
       "3339               11.383411              1.831109              2.094199   \n",
       "\n",
       "      lag_1_vaccine_safety  lag_2_vaccine_safety  \\\n",
       "3304              1.352006              1.276527   \n",
       "3295              1.352006              1.276527   \n",
       "3242              1.352006              1.276527   \n",
       "3243              1.352006              1.276527   \n",
       "3339              1.352006              1.276527   \n",
       "\n",
       "      lag_1_weekly_vaccinations_count  lag_2_weekly_vaccinations_count  \\\n",
       "3304                            46707                          65773.0   \n",
       "3295                            46312                          46707.0   \n",
       "3242                            45059                          46312.0   \n",
       "3243                            37554                          45059.0   \n",
       "3339                            27998                          37554.0   \n",
       "\n",
       "      weekly_vaccinations_count  \n",
       "3304                    46312.0  \n",
       "3295                    45059.0  \n",
       "3242                    37554.0  \n",
       "3243                    27998.0  \n",
       "3339                     6770.0  "
      ]
     },
     "execution_count": 6,
     "metadata": {},
     "output_type": "execute_result"
    }
   ],
   "source": [
    "virginia.tail()"
   ]
  },
  {
   "cell_type": "code",
   "execution_count": 7,
   "metadata": {},
   "outputs": [
    {
     "data": {
      "text/plain": [
       "count       106.000000\n",
       "mean     179285.452830\n",
       "std      148843.919624\n",
       "min        6770.000000\n",
       "25%       71501.500000\n",
       "50%      127141.000000\n",
       "75%      259355.250000\n",
       "max      644252.000000\n",
       "Name: weekly_vaccinations_count, dtype: float64"
      ]
     },
     "execution_count": 7,
     "metadata": {},
     "output_type": "execute_result"
    }
   ],
   "source": [
    "virginia.weekly_vaccinations_count.describe()"
   ]
  },
  {
   "cell_type": "code",
   "execution_count": 8,
   "metadata": {},
   "outputs": [
    {
     "name": "stderr",
     "output_type": "stream",
     "text": [
      "2023-02-06 15:34:18,297:          font_manager.py:1633              _load_fontmanager(): generated new fontManager\n"
     ]
    },
    {
     "data": {
      "text/plain": [
       "<AxesSubplot: xlabel='lag_2_vaccine_interest', ylabel='weekly_vaccinations_count'>"
      ]
     },
     "execution_count": 8,
     "metadata": {},
     "output_type": "execute_result"
    },
    {
     "data": {
      "image/png": "[encoded data removed]",
      "text/plain": [
       "<Figure size 640x480 with 1 Axes>"
      ]
     },
     "metadata": {},
     "output_type": "display_data"
    }
   ],
   "source": [
    "# Investigate trends across features for prediction weekly vaccinations count!\n",
    "virginia.plot.scatter(y='weekly_vaccinations_count', x='lag_2_vaccine_interest')"
   ]
  },
  {
   "cell_type": "markdown",
   "metadata": {},
   "source": [
    "## Low latency feature retrieval\n",
    "\n",
    "To make a prediction in real-time, we need to do the following:\n",
    "\n",
    "1. Fetch our features from Redis using the Feast client\n",
    "2. Pass these features to our model\n",
    "3. Return these predictions to the user\n",
    "\n",
    "Here is an example pulling the latest features data from Redis (online store) for the state of *Virginia*."
   ]
  },
  {
   "cell_type": "code",
   "execution_count": 9,
   "metadata": {},
   "outputs": [],
   "source": [
    "# Fetch online feature\n",
    "online_feature = data_fetcher.get_online_data(state=\"Virginia\")"
   ]
  },
  {
   "cell_type": "code",
   "execution_count": 10,
   "metadata": {},
   "outputs": [
    {
     "data": {
      "text/html": [
       "<div>\n",
       "<style scoped>\n",
       "    .dataframe tbody tr th:only-of-type {\n",
       "        vertical-align: middle;\n",
       "    }\n",
       "\n",
       "    .dataframe tbody tr th {\n",
       "        vertical-align: top;\n",
       "    }\n",
       "\n",
       "    .dataframe thead th {\n",
       "        text-align: right;\n",
       "    }\n",
       "</style>\n",
       "<table border=\"1\" class=\"dataframe\">\n",
       "  <thead>\n",
       "    <tr style=\"text-align: right;\">\n",
       "      <th></th>\n",
       "      <th>lag_1_vaccine_interest</th>\n",
       "      <th>lag_2_vaccine_interest</th>\n",
       "      <th>lag_1_vaccine_intent</th>\n",
       "      <th>lag_2_vaccine_intent</th>\n",
       "      <th>lag_1_vaccine_safety</th>\n",
       "      <th>lag_2_vaccine_safety</th>\n",
       "      <th>lag_1_weekly_vaccinations_count</th>\n",
       "      <th>lag_2_weekly_vaccinations_count</th>\n",
       "    </tr>\n",
       "  </thead>\n",
       "  <tbody>\n",
       "    <tr>\n",
       "      <th>0</th>\n",
       "      <td>10.72945</td>\n",
       "      <td>11.383411</td>\n",
       "      <td>1.831109</td>\n",
       "      <td>2.094199</td>\n",
       "      <td>1.352006</td>\n",
       "      <td>1.276527</td>\n",
       "      <td>6770</td>\n",
       "      <td>27998</td>\n",
       "    </tr>\n",
       "  </tbody>\n",
       "</table>\n",
       "</div>"
      ],
      "text/plain": [
       "   lag_1_vaccine_interest  lag_2_vaccine_interest  lag_1_vaccine_intent  \\\n",
       "0                10.72945               11.383411              1.831109   \n",
       "\n",
       "   lag_2_vaccine_intent  lag_1_vaccine_safety  lag_2_vaccine_safety  \\\n",
       "0              2.094199              1.352006              1.276527   \n",
       "\n",
       "   lag_1_weekly_vaccinations_count  lag_2_weekly_vaccinations_count  \n",
       "0                             6770                            27998  "
      ]
     },
     "execution_count": 10,
     "metadata": {},
     "output_type": "execute_result"
    }
   ],
   "source": [
    "online_feature"
   ]
  },
  {
   "cell_type": "markdown",
   "metadata": {},
   "source": [
    "### Alternatives for Feature Retrieval\n",
    "- Instead of using the Feast SDK (and our Data Fetcher class), you can also setup and use the [Python feature server](https://docs.feast.dev/reference/feature-servers/python-feature-server).\n",
    "- If you need the best in class performance for feature retrieval and don't mind the extra setup, Feast also supports a [Go feature server](https://docs.feast.dev/reference/feature-servers/go-feature-server) that is much faster than standard Python.\n",
    "\n",
    "If included in the project, you can run these HTTP (or gRPC) servers with `feast serve` command. The doc links above show how to set that up."
   ]
  }
 ],
 "metadata": {
  "colab": {
   "collapsed_sections": [],
   "name": "Fraud Detection Tutorial",
   "provenance": [],
   "toc_visible": true
  },
  "kernelspec": {
   "display_name": "Python 3 (ipykernel)",
   "language": "python",
   "name": "python3"
  },
  "language_info": {
   "codemirror_mode": {
    "name": "ipython",
    "version": 3
   },
   "file_extension": ".py",
   "mimetype": "text/x-python",
   "name": "python",
   "nbconvert_exporter": "python",
   "pygments_lexer": "ipython3",
   "version": "3.8.13"
  },
  "vscode": {
   "interpreter": {
    "hash": "e1c5a7c9cc0d58080444e081b74a0823c09a12f0209aca730c38726ea6940124"
   }
  }
 },
 "nbformat": 4,
 "nbformat_minor": 4
}
