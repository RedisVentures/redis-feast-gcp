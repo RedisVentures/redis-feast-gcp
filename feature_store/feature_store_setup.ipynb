{
  "cells": [
    {
      "cell_type": "markdown",
      "metadata": {
        "id": "jirdTjhETQW0"
      },
      "source": [
        "# **Redis + Feast**: Feature Store Setup on Google Cloud Platform (GCP)\n",
        "\n",
        "Here we will move through necessary steps to setup an end-to-end Feature Store on GCP with Feast and Redis Enterprise (as the \"Online Store\").\n",
        "\n",
        "## Demo ML Application\n",
        "The demo application will be fusing [google search trends data]() along with [vaccine demand signals]() by state and week. Both datasets are open source and provided free to the public!\n",
        "\n",
        "The full system will perform the following steps:\n",
        "- Provision GCP infrastructure\n",
        "- Compute and backfill feature data from raw data sources\n",
        "- Build point-in-time correct training datasets from feature data and train a model\n",
        "- Make online predictions from feature data\n",
        "\n",
        "Here's a high-level picture of the system architecture:"
      ]
    },
    {
      "cell_type": "markdown",
      "metadata": {},
      "source": [
        "![architecture](../img/Feast_GCP_Redis_Ray_Demo.png)"
      ]
    },
    {
      "cell_type": "markdown",
      "metadata": {
        "id": "A9gPfHZAVSPm"
      },
      "source": [
        "The stack will include different tools based on the environment. On GCP, our stack will include the following:\n",
        "\n",
        "- All model feature definitions will live in a **GitHub** repository (this one).\n",
        "- Features will be registered to a **Cloud Storage** bucket using the **Feast** SDK and **Cloud Build** for CI/CD.\n",
        "- **BigQuery** will be the offline source of record for ML features.\n",
        "- Periodically, a **Cloud Scheduler** job will trigger a **Cloud Function** to materialize the latest features to the online store.\n",
        "- **Redis Enterprise** will be the online store."
      ]
    },
    {
      "cell_type": "markdown",
      "metadata": {
        "id": "WX6daujBVgZ5"
      },
      "source": [
        "# Installation and Set up\n",
        "\n",
        "## Install Dependencies\n",
        "\n",
        "Feast can be installed using pip. This installation includes a Python package as well as a CLI."
      ]
    },
    {
      "cell_type": "code",
      "execution_count": null,
      "metadata": {
        "colab": {
          "base_uri": "https://localhost:8080/"
        },
        "id": "S51NR-oPVsjg",
        "outputId": "f57f3327-c954-4af6-81e6-0be7b4f638fe"
      },
      "outputs": [],
      "source": [
        "!pip install -r 'feature_store/requirements.txt'\n",
        "!feast version"
      ]
    },
    {
      "cell_type": "markdown",
      "metadata": {},
      "source": [
        "**After running this cells, restart the runtime to continue** (Runtime > Restart runtime.)"
      ]
    },
    {
      "cell_type": "markdown",
      "metadata": {
        "id": "6eKs1547MiFA"
      },
      "source": [
        "## Environment Setup\n",
        "\n",
        "Edit the following values below:\n",
        "\n",
        "- GOOGLE_APPLICATION_CREDENTIALS: Path to your GCP credentials JSON file.\n",
        "- PROJECT_ID: Your GCP project identifier.\n",
        "- PROJECT_NUMBER: Your GCP project number.\n",
        "- REDIS_CONNECITON_STRING: Your Redis Enterprise connection string --> `host:port`.\n",
        "- REDIS_PASSWORD: Your Redis Enterprise password."
      ]
    },
    {
      "cell_type": "code",
      "execution_count": 1,
      "metadata": {},
      "outputs": [
        {
          "name": "stdout",
          "output_type": "stream",
          "text": [
            "env: GOOGLE_APPLICATION_CREDENTIALS=/Users/tyler.hutcherson/Downloads/nifty-time-353221-e1ae0236dfee.json\n",
            "env: REDIS_CONNECTION_STRING=redis-16188.c285.us-west-2-2.ec2.cloud.redislabs.com:16188\n",
            "env: REDIS_PASSWORD=Kz8Z8EkqhKQcwwws4XrGEWMwwrAk1SHr\n",
            "env: PROJECT_ID=nifty-time-353221\n"
          ]
        }
      ],
      "source": [
        "# **UPDATE THESE** #\n",
        "%env GOOGLE_APPLICATION_CREDENTIALS=/Users/tyler.hutcherson/Downloads/nifty-time-353221-e1ae0236dfee.json\n",
        "%env REDIS_CONNECTION_STRING=redis-16188.c285.us-west-2-2.ec2.cloud.redislabs.com:16188\n",
        "%env REDIS_PASSWORD=Kz8Z8EkqhKQcwwws4XrGEWMwwrAk1SHr\n",
        "%env PROJECT_ID=nifty-time-353221\n"
      ]
    },
    {
      "cell_type": "markdown",
      "metadata": {
        "id": "aMTHUlCSYsUy"
      },
      "source": [
        "## GCP Setup\n",
        "\n",
        "1. [Create a new project](https://console.cloud.google.com/cloud-resource-manager)\n",
        "2. [Make sure that billing is enabled for your project.](https://cloud.google.com/billing/docs/how-to/modify-project)\n",
        "3. Enable the following APIs:\n",
        "    1. [Cloud Scheduler](https://console.cloud.google.com/apis/library/cloudscheduler.googleapis.com?q=cloud&id=1d54d828-14ed-4976-959b-3b18cca9e859)\n",
        "    2. [Cloud Build](https://console.cloud.google.com/apis/library/cloudbuild.googleapis.com?q=cloud&id=9472915e-c82c-4bef-8a6a-34c81e5aebcc)\n",
        "    3. [Secret Manager]()\n",
        "    3. [Cloud Functions](https://console.cloud.google.com/apis/library/cloudfunctions.googleapis.com?q=cloud%20functions&id=2174da14-0e34-49ed-9267-e258674e95da)"
      ]
    },
    {
      "cell_type": "code",
      "execution_count": 5,
      "metadata": {
        "colab": {
          "base_uri": "https://localhost:8080/"
        },
        "id": "NKPT2GJ_Jb2h",
        "outputId": "37b78902-83db-4e7d-ea9c-69eb60b5caa2"
      },
      "outputs": [
        {
          "name": "stdout",
          "output_type": "stream",
          "text": [
            "Updated property [core/project].\n",
            "env: GOOGLE_CLOUD_PROJECT=nifty-time-353221\n"
          ]
        }
      ],
      "source": [
        "from repo import config\n",
        "from utils import DataFetcher, ModelRepo\n",
        "from utils import file\n",
        "\n",
        "# Set the GCP Project\n",
        "! gcloud config set project $config.PROJECT_ID\n",
        "%env GOOGLE_CLOUD_PROJECT=$config.PROJECT_ID\n",
        "!echo project_id = $config.PROJECT_ID > ~/.bigqueryrc"
      ]
    },
    {
      "cell_type": "markdown",
      "metadata": {
        "id": "yxpj6AHLUdJR"
      },
      "source": [
        "### Create a Cloud Storage bucket\n",
        "**Only if your bucket doesn't already exist**: Run the following cell to create your Cloud Storage bucket."
      ]
    },
    {
      "cell_type": "code",
      "execution_count": null,
      "metadata": {
        "colab": {
          "base_uri": "https://localhost:8080/"
        },
        "id": "z1RxnJ-AUgOl",
        "outputId": "1b798213-8734-452c-cd8a-9ce8cce90e0b"
      },
      "outputs": [],
      "source": [
        "# Only run if your bucket doesn't already exist!\n",
        "! gsutil mb gs://$config.BUCKET_NAME"
      ]
    },
    {
      "cell_type": "markdown",
      "metadata": {
        "id": "hrjZkcFmZlSM"
      },
      "source": [
        "### Create a BigQuery dataset\n",
        "**Only if your dataset doesn't already exist**: Run the following cell to create your BigQuery dataset."
      ]
    },
    {
      "cell_type": "code",
      "execution_count": 3,
      "metadata": {
        "colab": {
          "base_uri": "https://localhost:8080/"
        },
        "id": "_73sXuvjZzoz",
        "outputId": "e09670d1-7c9b-48e4-a640-fa73c34dc64e"
      },
      "outputs": [
        {
          "name": "stdout",
          "output_type": "stream",
          "text": [
            "Dataset 'nifty-time-353221:gcp_feast_demo' successfully created.\n"
          ]
        }
      ],
      "source": [
        "! bq --location=us mk --dataset $config.PROJECT_ID:$config.BIGQUERY_DATASET_NAME"
      ]
    },
    {
      "cell_type": "markdown",
      "metadata": {
        "id": "RXLgVUuNGPTj"
      },
      "source": [
        "### Create Feature Store Config\n",
        "\n"
      ]
    },
    {
      "cell_type": "markdown",
      "metadata": {},
      "source": [
        "### Create a Cloud Function for Feature Creation & Materialization\n",
        "\n",
        "We will use a **GCP Cloud Function** to run a feature generation and materialization job."
      ]
    },
    {
      "cell_type": "markdown",
      "metadata": {
        "id": "Q0dMrw4rESL7"
      },
      "source": [
        ">Our offline features will be stored in GCP BigQuery. Above, we've already created a dataset `gcp_feast_demo` where our cloud function can load two new tables.\n",
        "\n",
        "- `gcp_feast_demo.us_weekly_vaccinations` - Weekly vaccination counts across the United States by State.\n",
        "- `gcp_feast_demo.vaccine_search_trends` - Weekly vaccine search trends series with three search categories (interest, intent, and safety) by US state.\n"
      ]
    },
    {
      "cell_type": "code",
      "execution_count": null,
      "metadata": {},
      "outputs": [],
      "source": [
        "# Deploy cloud function!\n",
        "! gcloud functions deploy feast-update-features \\\n",
        "    --source=$(pwd) \\\n",
        "    --entry-point=main \\\n",
        "    --memory=1024MB \\\n",
        "    --allow-unauthenticated \\\n",
        "    --runtime python38 \\\n",
        "    --trigger-resource feast-schedule \\\n",
        "    --trigger-event google.pubsub.topic.publish \\\n",
        "    --timeout 540s \\\n",
        "    --set-build-env-vars GOOGLE_FUNCTION_SOURCE=\"materialize.py\" \\\n",
        "    --set-env-vars PROJECT_ID=$config.PROJECT_ID"
      ]
    },
    {
      "cell_type": "markdown",
      "metadata": {},
      "source": [
        "### Create a Cloud Scheduler Job\n",
        "To trigger the cloud function, we will schedule a job with Cloud Scheduler. This will run daily and is configurable."
      ]
    },
    {
      "cell_type": "code",
      "execution_count": null,
      "metadata": {},
      "outputs": [],
      "source": [
        "# Create Cloud Scheduler Job\n",
        "! gcloud scheduler jobs create pubsub feast-daily-job \\\n",
        "    --location us-east1 \\\n",
        "    --schedule \"0 22 * * *\" \\\n",
        "    --topic feast-schedule \\\n",
        "    --message-body \"This job schedules feature materialization once a day.\""
      ]
    },
    {
      "cell_type": "markdown",
      "metadata": {},
      "source": [
        "## Feature Store Setup\n",
        "\n",
        "### Create Feature Store Configuration"
      ]
    },
    {
      "cell_type": "code",
      "execution_count": 4,
      "metadata": {},
      "outputs": [],
      "source": [
        "import pickle\n",
        "from feast import RepoConfig, FeatureStore\n",
        "from google.cloud import storage\n",
        "\n",
        "# Create a feature store repo config\n",
        "repo_config = RepoConfig(\n",
        "    project=\"feature_store\",\n",
        "    # Cloud Storage Blob for the Registry\n",
        "    registry=f\"gs://{config.BUCKET_NAME}/data/registry.db\",\n",
        "    # Google Cloud Project -- GCP\n",
        "    provider=\"gcp\",\n",
        "    # Redis Enterprise as the Online Store\n",
        "    online_store={\n",
        "        \"type\": \"redis\",\n",
        "        \"connection_string\": f\"{config.REDIS_CONNECTION_STRING},password={config.REDIS_PASSWORD}\"\n",
        "    },\n",
        "    entity_key_serialization_version=2\n",
        ")\n",
        "\n",
        "# Host the config in cloud storage\n",
        "file.upload_pkl_to_gcs(repo_config, config.BUCKET_NAME, config.REPO_CONFIG)"
      ]
    },
    {
      "cell_type": "markdown",
      "metadata": {},
      "source": [
        "### Generate Initial Features"
      ]
    },
    {
      "cell_type": "code",
      "execution_count": null,
      "metadata": {},
      "outputs": [],
      "source": [
        "from materialize import (\n",
        "    generate_vaccine_count_features,\n",
        "    generate_vaccine_search_features,\n",
        "    bigquery,\n",
        "    storage\n",
        ")\n",
        "\n",
        "# GCP client objects\n",
        "client = bigquery.Client()\n",
        "\n",
        "# Generate Weekly Vaccine Count Features\n",
        "generate_vaccine_count_features(\n",
        "    client,\n",
        "    f\"{config.PROJECT_ID}.{config.BIGQUERY_DATASET_NAME}.{config.WEEKLY_VACCINATIONS_TABLE}\"\n",
        ")\n",
        "\n",
        "# Generate Vaccine Search Features\n",
        "generate_vaccine_search_features(\n",
        "    client,\n",
        "    f\"{config.PROJECT_ID}.{config.BIGQUERY_DATASET_NAME}.{config.VACCINE_SEARCH_TRENDS_TABLE}\"\n",
        ")"
      ]
    },
    {
      "cell_type": "markdown",
      "metadata": {},
      "source": [
        "### Create Feature Store\n",
        "\n",
        "Last step before we can utilize our store is to create the Feature Store by registering the feature definitions and entities in `features.py` and perform the initial materialization."
      ]
    },
    {
      "cell_type": "code",
      "execution_count": null,
      "metadata": {},
      "outputs": [],
      "source": [
        "# Apply to create a feature store in GCP\n",
        "! python apply.py"
      ]
    },
    {
      "cell_type": "markdown",
      "metadata": {
        "id": "6cJFAJiuGxM3"
      },
      "source": [
        "# Fetching Historical Data\n",
        "\n",
        "Now that our features are registered in Feast, we can use Feast to generate a training dataset. To do this, we need an entity dataframe, alongside the list of features we want.\n",
        "\n",
        "To make things simpler, we registered a `FeatureService` for both model training and serving."
      ]
    },
    {
      "cell_type": "code",
      "execution_count": null,
      "metadata": {},
      "outputs": [],
      "source": [
        "from feast import FeatureStore\n",
        "\n",
        "# Load fs\n",
        "store = FeatureStore(config=repo_config)\n",
        "# Load data fetcher\n",
        "data_fetcher = DataFetcher(store)"
      ]
    },
    {
      "cell_type": "code",
      "execution_count": null,
      "metadata": {
        "colab": {
          "base_uri": "https://localhost:8080/",
          "height": 330
        },
        "id": "BqgiEP2Oz42q",
        "outputId": "40552317-644b-4ee6-d735-0ee5e48e79dd"
      },
      "outputs": [],
      "source": [
        "# Fetch Historical Training Data\n",
        "ds = data_fetcher.get_training_data()"
      ]
    },
    {
      "cell_type": "code",
      "execution_count": null,
      "metadata": {},
      "outputs": [],
      "source": [
        "virginia = ds[ds.state == 'Virginia']"
      ]
    },
    {
      "cell_type": "code",
      "execution_count": null,
      "metadata": {},
      "outputs": [],
      "source": [
        "virginia.sort_values('event_timestamp', axis=0, inplace=True)"
      ]
    },
    {
      "cell_type": "code",
      "execution_count": null,
      "metadata": {},
      "outputs": [],
      "source": [
        "virginia.head()"
      ]
    },
    {
      "cell_type": "code",
      "execution_count": null,
      "metadata": {},
      "outputs": [],
      "source": [
        "virginia.tail()"
      ]
    },
    {
      "cell_type": "code",
      "execution_count": null,
      "metadata": {},
      "outputs": [],
      "source": [
        "# Clean up any nulls\n",
        "ds.dropna(inplace=True)\n",
        "ds.sort_values(['event_timestamp', 'state'], axis=0, inplace=True)"
      ]
    },
    {
      "cell_type": "code",
      "execution_count": null,
      "metadata": {},
      "outputs": [],
      "source": [
        "virginia = ds[ds['state'] == 'Virginia']\n",
        "\n",
        "virginia.weekly_vaccinations_count.describe()"
      ]
    },
    {
      "cell_type": "code",
      "execution_count": null,
      "metadata": {},
      "outputs": [],
      "source": [
        "virginia.plot.scatter(y='weekly_vaccinations_count', x='lag_2_vaccine_interest')"
      ]
    },
    {
      "cell_type": "code",
      "execution_count": null,
      "metadata": {},
      "outputs": [],
      "source": [
        "virginia.plot.scatter(y='weekly_vaccinations_count', x='lag_2_vaccine_safety')"
      ]
    },
    {
      "cell_type": "markdown",
      "metadata": {
        "id": "3izkr_3sG1hX"
      },
      "source": [
        "## Training a model\n",
        "\n",
        "Now, we can use our features to train a model:"
      ]
    },
    {
      "cell_type": "code",
      "execution_count": null,
      "metadata": {
        "colab": {
          "base_uri": "https://localhost:8080/"
        },
        "id": "YMgFuFHR4pIu",
        "outputId": "7f248543-3016-482c-9d8e-b0819cf3609d"
      },
      "outputs": [],
      "source": [
        "\n",
        "# forecast monthly births with xgboost\n",
        "import warnings\n",
        "warnings.filterwarnings('ignore')\n",
        "from time import sleep\n",
        "import pandas as pd\n",
        "import numpy as np\n",
        "from datetime import datetime, timedelta\n",
        "from numpy import asarray, array\n",
        "from sklearn.metrics import mean_absolute_error\n",
        "from sklearn.preprocessing import OrdinalEncoder\n",
        "from xgboost import XGBRegressor\n",
        "from sklearn.linear_model import LinearRegression\n",
        "from matplotlib import pyplot\n",
        "from sklearn.pipeline import make_pipeline\n",
        "from sklearn.compose import make_column_transformer, make_column_selector\n",
        "from sklearn.preprocessing import OrdinalEncoder\n",
        "\n",
        "\n",
        "\n",
        "# split a timeseries dataset into train/test sets by date\n",
        "def train_test_split(data: pd.DataFrame, n_test_weeks):\n",
        "    split_point = data.event_timestamp.max() - timedelta(weeks=n_test_weeks)\n",
        "    train = data[data.event_timestamp <= split_point]\n",
        "    test = data[data.event_timestamp > split_point]\n",
        "    train.drop('event_timestamp', axis=1, inplace=True)\n",
        "    test.drop('event_timestamp', axis=1, inplace=True)\n",
        "    return train, test\n",
        "\n",
        "# fit an xgboost model\n",
        "def xgboost_train(train):\n",
        "    # split into input and output columns\n",
        "    trainX, trainy = train.iloc[:, :-1], train.iloc[:, -1]\n",
        "    # make model\n",
        "    ordinal_encoder = make_column_transformer(\n",
        "        (\n",
        "            OrdinalEncoder(dtype=int),\n",
        "            make_column_selector(pattern=\"state\"),\n",
        "        ),\n",
        "        remainder=\"passthrough\",\n",
        "    )\n",
        "    model = make_pipeline(\n",
        "        ordinal_encoder,\n",
        "        XGBRegressor(\n",
        "            random_state=42,\n",
        "            objective=\"count:poisson\",\n",
        "            tree_method=\"hist\",\n",
        "            enable_categorical=True,\n",
        "            n_estimators=250,\n",
        "            max_depth=4\n",
        "        )\n",
        "    )\n",
        "    model.fit(trainX, trainy)\n",
        "    return model\n",
        "\n",
        "# walk-forward validation for timeseries data\n",
        "def create_model(data, n_test_weeks):\n",
        "    predictions = list()\n",
        "    # split dataset\n",
        "    train, test = train_test_split(data, n_test_weeks)\n",
        "    testX, testy = test.iloc[:, :-1], test.iloc[:, -1]\n",
        "    # train\n",
        "    model = xgboost_train(train)\n",
        "    # predict\n",
        "    predictions = model.predict(testX)\n",
        "    error = mean_absolute_error(testy, predictions)\n",
        "    return error, testy.to_numpy(), predictions, model\n"
      ]
    },
    {
      "cell_type": "code",
      "execution_count": null,
      "metadata": {},
      "outputs": [],
      "source": [
        "features = [\n",
        "    \"state\",\n",
        "    # \"lag_1_vaccine_interest\",\n",
        "    \"lag_2_vaccine_interest\",\n",
        "    \"lag_1_vaccine_intent\",\n",
        "    \"lag_2_vaccine_intent\",\n",
        "    \"lag_1_vaccine_safety\",\n",
        "    \"lag_2_vaccine_safety\",\n",
        "    # \"lag_1_weekly_vaccinations_count\",\n",
        "    # \"lag_2_weekly_vaccinations_count\"\n",
        "]\n",
        "\n",
        "# Train!\n",
        "columns = [\"event_timestamp\"] + features + [\"weekly_vaccinations_count\"]\n",
        "mae, y, yhat, model = create_model(ds[columns], n_test_weeks=1)\n",
        "\n",
        "\n",
        "# plot expected vs preducted\n",
        "print('MAE: %.3f' % mae)\n",
        "pyplot.plot(y, label='Expected')\n",
        "pyplot.plot(yhat, label='Predicted')\n",
        "pyplot.legend()\n",
        "pyplot.show()"
      ]
    },
    {
      "cell_type": "code",
      "execution_count": null,
      "metadata": {},
      "outputs": [],
      "source": [
        "# Explore feature importance\n",
        "for feature, imp in zip(features, model[-1].feature_importances_):\n",
        "    print(feature, imp)"
      ]
    },
    {
      "cell_type": "markdown",
      "metadata": {
        "id": "66KabUSEHPm1"
      },
      "source": [
        "## Saving and deploying the model\n",
        "\n",
        "First we save the model to storage."
      ]
    },
    {
      "cell_type": "code",
      "execution_count": null,
      "metadata": {
        "colab": {
          "base_uri": "https://localhost:8080/"
        },
        "id": "J6_Xkqa445I0",
        "outputId": "1a56891e-9417-4fe0-c365-1b015c93f4f2"
      },
      "outputs": [],
      "source": [
        "# Use the model repo helper class\n",
        "host, port = config.REDIS_CONNECTION_STRING.split(\":\")\n",
        "model_repo = ModelRepo(host, port, config.REDIS_CONNECTION_STRING)\n",
        "await model_repo.setup()"
      ]
    },
    {
      "cell_type": "code",
      "execution_count": null,
      "metadata": {
        "colab": {
          "base_uri": "https://localhost:8080/"
        },
        "id": "Pv9Ob_8s47Em",
        "outputId": "6794d620-51ae-42a3-8ddc-8ad91283674a"
      },
      "outputs": [],
      "source": [
        "# Save model\n",
        "\n",
        "version = await model_repo.save_version(model)\n",
        "print(f\"Saved model version {version}\")"
      ]
    },
    {
      "cell_type": "markdown",
      "metadata": {
        "id": "FNVxJpw1HohD"
      },
      "source": [
        "# Low latency inference\n",
        "\n",
        "To make a prediction in real-time, we need to do the following:\n",
        "\n",
        "1. Fetch our features from Redis using the Feast client\n",
        "2. Pass these features to our model\n",
        "3. Return these predictions to the user\n",
        "\n",
        "![Feast landing page, blog post - [Archive].png](data:image/png;base64,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)\n"
      ]
    },
    {
      "cell_type": "code",
      "execution_count": null,
      "metadata": {},
      "outputs": [],
      "source": [
        "# Fetch online feature\n",
        "online_feature = data_fetcher.get_online_data({\"state\": \"Virginia\"})"
      ]
    },
    {
      "cell_type": "code",
      "execution_count": null,
      "metadata": {},
      "outputs": [],
      "source": [
        "# Test the vaccine demand\n",
        "from serve.vaccine_demand import VaccineDemand\n",
        "\n",
        "vaccine_demand = VaccineDemand(model, repo_config, cols=features)"
      ]
    },
    {
      "cell_type": "markdown",
      "metadata": {
        "id": "bHAb2eRyJFKO"
      },
      "source": [
        "## Trouble Shooting\n",
        "\n",
        "\n",
        "### Configure BigQuery permissions\n",
        "\n",
        "You might also need to give your cloud function permission to access your BigQuery dataset. To do this:\n",
        "\n",
        "1. Open your dataset in BigQuery.\n",
        "2. Hover over the plus icon, and click \"share dataset.\"\n",
        "3. In the pop-up, enter your project's service account email. This should be `[PROJECT_ID]@appspot.gserviceaccount.com`. \n",
        "4. Select permission \"Can Edit\" and confirm."
      ]
    },
    {
      "cell_type": "markdown",
      "metadata": {
        "id": "3Q4YGlirJPAo"
      },
      "source": [
        "## Run the workflow\n",
        "\n",
        "If you want to test the workflow manually:\n",
        "\n",
        "1. Open the **Cloud Scheduler** page in the console.\n",
        "2. Click the ‘Run Now’ button in the feast-daily-job row.\n",
        "3. Open the **Cloud Function** page in the console.\n",
        "4. Open your **Cloud Function** (feast-update-features.)\n",
        "5. Open the Logs tab to see the latest run of your cloud function."
      ]
    },
    {
      "cell_type": "markdown",
      "metadata": {
        "id": "wu57c6FkJTCc"
      },
      "source": [
        "# Next steps\n",
        "\n",
        "We have just built an end-to-end system using Feast and Redis Enterprise in GCP.\n",
        "\n",
        "\n",
        "This system generates realtime predictions using up to date feature values from our model.\n",
        "\n",
        "Next steps that you can take after completing this tutorial include:\n",
        "\n",
        "- Check your repo into git to enable collaboration with your team.\n",
        "- Use this tutorial to bootstrap a model for your use case by editing features / model.\n",
        "- Incorporate the code in this tutorial into your company's batch pipelines by creating stages that perform feature creation and materialization."
      ]
    },
    {
      "cell_type": "markdown",
      "metadata": {
        "id": "m4Pu2m4KUrbp"
      },
      "source": [
        "# Cleanup\n",
        "\n",
        "If you want to clean up the resources created during this tutorial, run the following cells:\n"
      ]
    },
    {
      "cell_type": "code",
      "execution_count": null,
      "metadata": {
        "colab": {
          "base_uri": "https://localhost:8080/"
        },
        "id": "9RK_Kxj2VFQu",
        "outputId": "c6947143-d41b-4ce8-9f14-36c530234eb4"
      },
      "outputs": [],
      "source": [
        "! bq rm -t -f $config.BIGQUERY_DATASET_NAME'.'$config.WEEKLY_VACCINATIONS_TABLE\n",
        "! bq rm -t -f $config.BIGQUERY_DATASET_NAME'.'$config.VACCINE_SEARCH_TRENDS_TABLE\n",
        "! bq rm -r -f -d $config.BIGQUERY_DATASET_NAME\n",
        "! gcloud functions delete feast-update-features\n",
        "! gcloud scheduler jobs delete feast-daily-job --project $PROJECT_ID\n",
        "! python teardown.py"
      ]
    },
    {
      "cell_type": "code",
      "execution_count": null,
      "metadata": {
        "id": "5EGuKSupu5jN"
      },
      "outputs": [],
      "source": [
        "! echo $config.PROJECT_ID'.'$config.BIGQUERY_DATASET_NAME"
      ]
    }
  ],
  "metadata": {
    "colab": {
      "collapsed_sections": [],
      "name": "Fraud Detection Tutorial",
      "provenance": [],
      "toc_visible": true
    },
    "kernelspec": {
      "display_name": "Python 3.8.13 ('gcp-feast-demo')",
      "language": "python",
      "name": "python3"
    },
    "language_info": {
      "codemirror_mode": {
        "name": "ipython",
        "version": 3
      },
      "file_extension": ".py",
      "mimetype": "text/x-python",
      "name": "python",
      "nbconvert_exporter": "python",
      "pygments_lexer": "ipython3",
      "version": "3.8.13"
    },
    "vscode": {
      "interpreter": {
        "hash": "e1c5a7c9cc0d58080444e081b74a0823c09a12f0209aca730c38726ea6940124"
      }
    }
  },
  "nbformat": 4,
  "nbformat_minor": 0
}
