{
 "cells": [
  {
   "cell_type": "markdown",
   "metadata": {
    "id": "jirdTjhETQW0"
   },
   "source": [
    "# **Redis + Feast**: Feature Store Setup on Google Cloud Platform (GCP)\n",
    "\n",
    "The purpose of this notebook environment is to allow you to explore Feast, Redis, and GCP components all from one place.\n"
   ]
  },
  {
   "cell_type": "markdown",
   "metadata": {},
   "source": [
    "![architecture](img/Feast_GCP_Redis_Ray_Demo.png)"
   ]
  },
  {
   "cell_type": "markdown",
   "metadata": {
    "id": "WX6daujBVgZ5"
   },
   "source": [
    "## Install Dependencies\n",
    "\n",
    "Pip install the feature_store package to use the provided tools."
   ]
  },
  {
   "cell_type": "code",
   "execution_count": 5,
   "metadata": {
    "colab": {
     "base_uri": "https://localhost:8080/"
    },
    "id": "S51NR-oPVsjg",
    "outputId": "f57f3327-c954-4af6-81e6-0be7b4f638fe",
    "tags": []
   },
   "outputs": [
    {
     "name": "stdout",
     "output_type": "stream",
     "text": [
      "Processing /home/jovyan/work\n",
      "  Preparing metadata (setup.py) ... \u001b[?25ldone\n",
      "\u001b[?25hCollecting feast[gcp,redis]==0.22.0\n",
      "  Using cached feast-0.22.0-cp310-cp310-linux_aarch64.whl\n",
      "Requirement already satisfied: requests==2.28.1 in /opt/conda/lib/python3.10/site-packages (from feature-store==0.0.1) (2.28.1)\n",
      "Collecting ipython==7.34.0\n",
      "  Using cached ipython-7.34.0-py3-none-any.whl (793 kB)\n",
      "Requirement already satisfied: Jinja2<4,>=2 in /opt/conda/lib/python3.10/site-packages (from feast[gcp,redis]==0.22.0->feature-store==0.0.1) (3.1.2)\n",
      "Collecting tensorflow-metadata<2.0.0,>=1.0.0\n",
      "  Using cached tensorflow_metadata-1.10.0-py3-none-any.whl (50 kB)\n",
      "Collecting google-api-core<3,>=1.23.0\n",
      "  Using cached google_api_core-2.10.2-py3-none-any.whl (115 kB)\n",
      "Collecting fastavro<2,>=1.1.0\n",
      "  Using cached fastavro-1.6.1-cp310-cp310-manylinux_2_17_aarch64.manylinux2014_aarch64.whl (2.6 MB)\n",
      "Collecting tabulate==0.8.*\n",
      "  Using cached tabulate-0.8.10-py3-none-any.whl (29 kB)\n",
      "Collecting mmh3\n",
      "  Using cached mmh3-3.0.0.tar.gz (10 kB)\n",
      "  Preparing metadata (setup.py) ... \u001b[?25ldone\n",
      "\u001b[?25hCollecting pandas<2,>=1\n",
      "  Using cached pandas-1.5.1-cp310-cp310-manylinux_2_17_aarch64.manylinux2014_aarch64.whl (11.4 MB)\n",
      "Collecting bowler\n",
      "  Using cached bowler-0.9.0-py3-none-any.whl (36 kB)\n",
      "Collecting grpcio-reflection<2,>=1.34.0\n",
      "  Using cached grpcio_reflection-1.50.0-py3-none-any.whl (20 kB)\n",
      "Collecting dill==0.3.*\n",
      "  Using cached dill-0.3.5.1-py2.py3-none-any.whl (95 kB)\n",
      "Collecting toml==0.10.*\n",
      "  Using cached toml-0.10.2-py2.py3-none-any.whl (16 kB)\n",
      "Collecting proto-plus==1.20.*\n",
      "  Using cached proto_plus-1.20.6-py3-none-any.whl (46 kB)\n",
      "Collecting PyYAML<7,>=5.4.*\n",
      "  Using cached PyYAML-6.0-cp310-cp310-manylinux_2_17_aarch64.manylinux2014_aarch64.whl (733 kB)\n",
      "Requirement already satisfied: tqdm==4.* in /opt/conda/lib/python3.10/site-packages (from feast[gcp,redis]==0.22.0->feature-store==0.0.1) (4.64.1)\n",
      "Collecting numpy<1.22,<2\n",
      "  Using cached numpy-1.21.6-cp310-cp310-manylinux_2_17_aarch64.manylinux2014_aarch64.whl (13.0 MB)\n",
      "Collecting tenacity<9,>=7\n",
      "  Using cached tenacity-8.1.0-py3-none-any.whl (23 kB)\n",
      "Collecting uvicorn[standard]<1,>=0.14.0\n",
      "  Using cached uvicorn-0.19.0-py3-none-any.whl (56 kB)\n",
      "Collecting click<8.0.2,>=7.0.0\n",
      "  Using cached click-8.0.1-py3-none-any.whl (97 kB)\n",
      "Collecting googleapis-common-protos<2,>=1.52.*\n",
      "  Using cached googleapis_common_protos-1.56.4-py2.py3-none-any.whl (211 kB)\n",
      "Collecting typeguard\n",
      "  Using cached typeguard-2.13.3-py3-none-any.whl (17 kB)\n",
      "Collecting grpcio<2,>=1.34.0\n",
      "  Using cached grpcio-1.50.0-cp310-cp310-manylinux_2_17_aarch64.whl (67.0 MB)\n",
      "Requirement already satisfied: SQLAlchemy[mypy]<2,>1 in /opt/conda/lib/python3.10/site-packages (from feast[gcp,redis]==0.22.0->feature-store==0.0.1) (1.4.41)\n",
      "Collecting protobuf<3.20,>=3.10\n",
      "  Using cached protobuf-3.19.6-cp310-cp310-manylinux2014_aarch64.whl (913 kB)\n",
      "Collecting pygments==2.12.0\n",
      "  Using cached Pygments-2.12.0-py3-none-any.whl (1.1 MB)\n",
      "Collecting pydantic<2,>=1\n",
      "  Using cached pydantic-1.10.2-py3-none-any.whl (154 kB)\n",
      "Collecting pandavro==1.5.*\n",
      "  Using cached pandavro-1.5.2-py3-none-any.whl\n",
      "Requirement already satisfied: colorama<1,>=0.3.9 in /opt/conda/lib/python3.10/site-packages (from feast[gcp,redis]==0.22.0->feature-store==0.0.1) (0.4.5)\n",
      "Collecting pyarrow<7,>=4\n",
      "  Using cached pyarrow-6.0.1-cp310-cp310-manylinux_2_17_aarch64.manylinux2014_aarch64.whl (23.9 MB)\n",
      "Collecting dask<2022.02.0,>=2021.*\n",
      "  Using cached dask-2022.1.1-py3-none-any.whl (1.1 MB)\n",
      "Requirement already satisfied: jsonschema in /opt/conda/lib/python3.10/site-packages (from feast[gcp,redis]==0.22.0->feature-store==0.0.1) (4.16.0)\n",
      "Collecting fastapi<1,>=0.68.0\n",
      "  Using cached fastapi-0.85.1-py3-none-any.whl (55 kB)\n",
      "Collecting google-cloud-datastore<3,>=2.1.*\n",
      "  Using cached google_cloud_datastore-2.9.0-py2.py3-none-any.whl (147 kB)\n",
      "Collecting google-cloud-core<2.0.0,>=1.4.0\n",
      "  Using cached google_cloud_core-1.7.3-py2.py3-none-any.whl (28 kB)\n",
      "Collecting google-cloud-bigquery-storage<3,>=2.0.0\n",
      "  Using cached google_cloud_bigquery_storage-2.16.2-py2.py3-none-any.whl (185 kB)\n",
      "Collecting google-cloud-storage<1.41,>=1.34.*\n",
      "  Using cached google_cloud_storage-1.40.0-py2.py3-none-any.whl (104 kB)\n",
      "Collecting google-cloud-bigquery<3,>=2\n",
      "  Using cached google_cloud_bigquery-2.34.4-py2.py3-none-any.whl (206 kB)\n",
      "Collecting redis==4.2.2\n",
      "  Using cached redis-4.2.2-py3-none-any.whl (226 kB)\n",
      "Collecting hiredis<3,>=2.0.0\n",
      "  Using cached hiredis-2.0.0.tar.gz (75 kB)\n",
      "  Preparing metadata (setup.py) ... \u001b[?25ldone\n",
      "\u001b[?25hRequirement already satisfied: prompt-toolkit!=3.0.0,!=3.0.1,<3.1.0,>=2.0.0 in /opt/conda/lib/python3.10/site-packages (from ipython==7.34.0->feature-store==0.0.1) (3.0.31)\n",
      "Requirement already satisfied: matplotlib-inline in /opt/conda/lib/python3.10/site-packages (from ipython==7.34.0->feature-store==0.0.1) (0.1.6)\n",
      "Requirement already satisfied: pexpect>4.3 in /opt/conda/lib/python3.10/site-packages (from ipython==7.34.0->feature-store==0.0.1) (4.8.0)\n",
      "Requirement already satisfied: jedi>=0.16 in /opt/conda/lib/python3.10/site-packages (from ipython==7.34.0->feature-store==0.0.1) (0.18.1)\n",
      "Requirement already satisfied: decorator in /opt/conda/lib/python3.10/site-packages (from ipython==7.34.0->feature-store==0.0.1) (5.1.1)\n",
      "Requirement already satisfied: traitlets>=4.2 in /opt/conda/lib/python3.10/site-packages (from ipython==7.34.0->feature-store==0.0.1) (5.4.0)\n",
      "Requirement already satisfied: backcall in /opt/conda/lib/python3.10/site-packages (from ipython==7.34.0->feature-store==0.0.1) (0.2.0)\n",
      "Requirement already satisfied: pickleshare in /opt/conda/lib/python3.10/site-packages (from ipython==7.34.0->feature-store==0.0.1) (0.7.5)\n",
      "Requirement already satisfied: setuptools>=18.5 in /opt/conda/lib/python3.10/site-packages (from ipython==7.34.0->feature-store==0.0.1) (65.4.1)\n",
      "Requirement already satisfied: idna<4,>=2.5 in /opt/conda/lib/python3.10/site-packages (from requests==2.28.1->feature-store==0.0.1) (3.4)\n",
      "Requirement already satisfied: certifi>=2017.4.17 in /opt/conda/lib/python3.10/site-packages (from requests==2.28.1->feature-store==0.0.1) (2022.9.24)\n",
      "Requirement already satisfied: charset-normalizer<3,>=2 in /opt/conda/lib/python3.10/site-packages (from requests==2.28.1->feature-store==0.0.1) (2.1.1)\n",
      "Requirement already satisfied: urllib3<1.27,>=1.21.1 in /opt/conda/lib/python3.10/site-packages (from requests==2.28.1->feature-store==0.0.1) (1.26.11)\n",
      "Requirement already satisfied: six>=1.9 in /opt/conda/lib/python3.10/site-packages (from pandavro==1.5.*->feast[gcp,redis]==0.22.0->feature-store==0.0.1) (1.16.0)\n",
      "Collecting deprecated>=1.2.3\n",
      "  Using cached Deprecated-1.2.13-py2.py3-none-any.whl (9.6 kB)\n",
      "Collecting async-timeout>=4.0.2\n",
      "  Using cached async_timeout-4.0.2-py3-none-any.whl (5.8 kB)\n",
      "Requirement already satisfied: packaging>=20.4 in /opt/conda/lib/python3.10/site-packages (from redis==4.2.2->feast[gcp,redis]==0.22.0->feature-store==0.0.1) (21.3)\n",
      "Collecting cloudpickle>=1.1.1\n",
      "  Using cached cloudpickle-2.2.0-py3-none-any.whl (25 kB)\n",
      "Collecting fsspec>=0.6.0\n",
      "  Using cached fsspec-2022.10.0-py3-none-any.whl (138 kB)\n",
      "Requirement already satisfied: toolz>=0.8.2 in /opt/conda/lib/python3.10/site-packages (from dask<2022.02.0,>=2021.*->feast[gcp,redis]==0.22.0->feature-store==0.0.1) (0.12.0)\n",
      "Collecting partd>=0.3.10\n",
      "  Using cached partd-1.3.0-py3-none-any.whl (18 kB)\n",
      "Collecting starlette==0.20.4\n",
      "  Using cached starlette-0.20.4-py3-none-any.whl (63 kB)\n",
      "Requirement already satisfied: anyio<5,>=3.4.0 in /opt/conda/lib/python3.10/site-packages (from starlette==0.20.4->fastapi<1,>=0.68.0->feast[gcp,redis]==0.22.0->feature-store==0.0.1) (3.6.1)\n",
      "Collecting google-auth<3.0dev,>=1.25.0\n",
      "  Using cached google_auth-2.13.0-py2.py3-none-any.whl (174 kB)\n",
      "Requirement already satisfied: python-dateutil<3.0dev,>=2.7.2 in /opt/conda/lib/python3.10/site-packages (from google-cloud-bigquery<3,>=2->feast[gcp,redis]==0.22.0->feature-store==0.0.1) (2.8.2)\n",
      "Collecting google-resumable-media<3.0dev,>=0.6.0\n",
      "  Using cached google_resumable_media-2.4.0-py2.py3-none-any.whl (77 kB)\n",
      "Collecting google-cloud-bigquery-storage<3,>=2.0.0\n",
      "  Using cached google_cloud_bigquery_storage-2.16.1-py2.py3-none-any.whl (185 kB)\n",
      "  Using cached google_cloud_bigquery_storage-2.16.0-py2.py3-none-any.whl (185 kB)\n",
      "  Using cached google_cloud_bigquery_storage-2.15.0-py2.py3-none-any.whl (182 kB)\n",
      "  Using cached google_cloud_bigquery_storage-2.14.2-py2.py3-none-any.whl (182 kB)\n",
      "  Using cached google_cloud_bigquery_storage-2.14.1-py2.py3-none-any.whl (181 kB)\n",
      "Collecting google-auth<3.0dev,>=1.25.0\n",
      "  Using cached google_auth-1.35.0-py2.py3-none-any.whl (152 kB)\n",
      "Collecting google-cloud-datastore<3,>=2.1.*\n",
      "  Using cached google_cloud_datastore-2.8.3-py2.py3-none-any.whl (141 kB)\n",
      "  Using cached google_cloud_datastore-2.8.2-py2.py3-none-any.whl (141 kB)\n",
      "  Using cached google_cloud_datastore-2.8.1-py2.py3-none-any.whl (141 kB)\n",
      "  Using cached google_cloud_datastore-2.8.0-py2.py3-none-any.whl (141 kB)\n",
      "Collecting google-resumable-media<3.0dev,>=0.6.0\n",
      "  Using cached google_resumable_media-1.3.3-py2.py3-none-any.whl (75 kB)\n",
      "Collecting grpcio-reflection<2,>=1.34.0\n",
      "  Using cached grpcio_reflection-1.49.1-py3-none-any.whl (20 kB)\n",
      "  Using cached grpcio_reflection-1.48.2-py3-none-any.whl (21 kB)\n",
      "Requirement already satisfied: parso<0.9.0,>=0.8.0 in /opt/conda/lib/python3.10/site-packages (from jedi>=0.16->ipython==7.34.0->feature-store==0.0.1) (0.8.3)\n",
      "Requirement already satisfied: MarkupSafe>=2.0 in /opt/conda/lib/python3.10/site-packages (from Jinja2<4,>=2->feast[gcp,redis]==0.22.0->feature-store==0.0.1) (2.1.1)\n",
      "Requirement already satisfied: pytz>=2020.1 in /opt/conda/lib/python3.10/site-packages (from pandas<2,>=1->feast[gcp,redis]==0.22.0->feature-store==0.0.1) (2022.4)\n",
      "Requirement already satisfied: ptyprocess>=0.5 in /opt/conda/lib/python3.10/site-packages (from pexpect>4.3->ipython==7.34.0->feature-store==0.0.1) (0.7.0)\n",
      "Requirement already satisfied: wcwidth in /opt/conda/lib/python3.10/site-packages (from prompt-toolkit!=3.0.0,!=3.0.1,<3.1.0,>=2.0.0->ipython==7.34.0->feature-store==0.0.1) (0.2.5)\n",
      "Requirement already satisfied: typing-extensions>=4.1.0 in /opt/conda/lib/python3.10/site-packages (from pydantic<2,>=1->feast[gcp,redis]==0.22.0->feature-store==0.0.1) (4.3.0)\n",
      "Requirement already satisfied: greenlet!=0.4.17 in /opt/conda/lib/python3.10/site-packages (from SQLAlchemy[mypy]<2,>1->feast[gcp,redis]==0.22.0->feature-store==0.0.1) (1.1.3)\n",
      "Collecting mypy>=0.910\n",
      "  Using cached mypy-0.982-py3-none-any.whl (2.3 MB)\n",
      "Collecting sqlalchemy2-stubs\n",
      "  Using cached sqlalchemy2_stubs-0.0.2a29-py3-none-any.whl (191 kB)\n",
      "Collecting absl-py<2.0.0,>=0.9\n",
      "  Using cached absl_py-1.3.0-py3-none-any.whl (124 kB)\n",
      "Collecting h11>=0.8\n",
      "  Using cached h11-0.14.0-py3-none-any.whl (58 kB)\n",
      "Collecting uvloop!=0.15.0,!=0.15.1,>=0.14.0\n",
      "  Using cached uvloop-0.17.0-cp310-cp310-manylinux_2_17_aarch64.manylinux2014_aarch64.whl (4.1 MB)\n",
      "Collecting python-dotenv>=0.13\n",
      "  Using cached python_dotenv-0.21.0-py3-none-any.whl (18 kB)\n",
      "Collecting watchfiles>=0.13\n",
      "  Using cached watchfiles-0.18.0-cp37-abi3-manylinux_2_17_aarch64.manylinux2014_aarch64.whl (1.2 MB)\n",
      "Collecting httptools>=0.5.0\n",
      "  Using cached httptools-0.5.0-cp310-cp310-manylinux_2_17_aarch64.manylinux2014_aarch64.whl (416 kB)\n",
      "Collecting websockets>=10.0\n",
      "  Using cached websockets-10.3-cp310-cp310-manylinux_2_17_aarch64.manylinux2014_aarch64.whl (106 kB)\n",
      "Requirement already satisfied: volatile in /opt/conda/lib/python3.10/site-packages (from bowler->feast[gcp,redis]==0.22.0->feature-store==0.0.1) (2.1.0)\n",
      "Collecting fissix\n",
      "  Using cached fissix-21.11.13-py3-none-any.whl (188 kB)\n",
      "Collecting moreorless>=0.2.0\n",
      "  Using cached moreorless-0.4.0-py2.py3-none-any.whl (9.3 kB)\n",
      "Requirement already satisfied: attrs in /opt/conda/lib/python3.10/site-packages (from bowler->feast[gcp,redis]==0.22.0->feature-store==0.0.1) (22.1.0)\n",
      "Requirement already satisfied: pyrsistent!=0.17.0,!=0.17.1,!=0.17.2,>=0.14.0 in /opt/conda/lib/python3.10/site-packages (from jsonschema->feast[gcp,redis]==0.22.0->feature-store==0.0.1) (0.18.1)\n",
      "Collecting wrapt<2,>=1.10\n",
      "  Using cached wrapt-1.14.1-cp310-cp310-manylinux_2_17_aarch64.manylinux2014_aarch64.whl (78 kB)\n",
      "Collecting grpcio-status<2.0dev,>=1.33.2\n",
      "  Using cached grpcio_status-1.50.0-py3-none-any.whl (14 kB)\n",
      "Collecting cachetools<5.0,>=2.0.0\n",
      "  Using cached cachetools-4.2.4-py3-none-any.whl (10 kB)\n",
      "Collecting pyasn1-modules>=0.2.1\n",
      "  Using cached pyasn1_modules-0.2.8-py2.py3-none-any.whl (155 kB)\n",
      "Collecting rsa<5,>=3.1.4\n",
      "  Using cached rsa-4.9-py3-none-any.whl (34 kB)\n",
      "Collecting google-crc32c<2.0dev,>=1.0\n",
      "  Using cached google_crc32c-1.5.0-cp310-cp310-manylinux_2_17_aarch64.manylinux2014_aarch64.whl (32 kB)\n",
      "Requirement already satisfied: mypy-extensions>=0.4.3 in /opt/conda/lib/python3.10/site-packages (from mypy>=0.910->SQLAlchemy[mypy]<2,>1->feast[gcp,redis]==0.22.0->feature-store==0.0.1) (0.4.3)\n",
      "Requirement already satisfied: tomli>=1.1.0 in /opt/conda/lib/python3.10/site-packages (from mypy>=0.910->SQLAlchemy[mypy]<2,>1->feast[gcp,redis]==0.22.0->feature-store==0.0.1) (2.0.1)\n",
      "Requirement already satisfied: pyparsing!=3.0.5,>=2.0.2 in /opt/conda/lib/python3.10/site-packages (from packaging>=20.4->redis==4.2.2->feast[gcp,redis]==0.22.0->feature-store==0.0.1) (3.0.9)\n",
      "Collecting locket\n",
      "  Using cached locket-1.0.0-py2.py3-none-any.whl (4.4 kB)\n",
      "Collecting appdirs\n",
      "  Using cached appdirs-1.4.4-py2.py3-none-any.whl (9.6 kB)\n",
      "Requirement already satisfied: sniffio>=1.1 in /opt/conda/lib/python3.10/site-packages (from anyio<5,>=3.4.0->starlette==0.20.4->fastapi<1,>=0.68.0->feast[gcp,redis]==0.22.0->feature-store==0.0.1) (1.3.0)\n",
      "Collecting grpcio-status<2.0dev,>=1.33.2\n",
      "  Using cached grpcio_status-1.49.1-py3-none-any.whl (14 kB)\n",
      "  Using cached grpcio_status-1.48.2-py3-none-any.whl (14 kB)\n",
      "Requirement already satisfied: pyasn1<0.5.0,>=0.4.6 in /opt/conda/lib/python3.10/site-packages (from pyasn1-modules>=0.2.1->google-auth<3.0dev,>=1.25.0->google-api-core<3,>=1.23.0->feast[gcp,redis]==0.22.0->feature-store==0.0.1) (0.4.8)\n",
      "Building wheels for collected packages: feature-store, hiredis, mmh3\n",
      "  Building wheel for feature-store (setup.py) ... \u001b[?25ldone\n",
      "\u001b[?25h  Created wheel for feature-store: filename=feature_store-0.0.1-py3-none-any.whl size=12190 sha256=a957c80755dcc9d0fe580a1405e1cde5b6caf0adc62a2f7e2d4f2b7981013d56\n",
      "  Stored in directory: /tmp/pip-ephem-wheel-cache-23p1s5x8/wheels/5f/08/7a/6898d32cc619c08f1a510d68e7a44b06d10bae7911d39f299e\n",
      "  Building wheel for hiredis (setup.py) ... \u001b[?25lerror\n",
      "  \u001b[1;31merror\u001b[0m: \u001b[1msubprocess-exited-with-error\u001b[0m\n",
      "  \n",
      "  \u001b[31m×\u001b[0m \u001b[32mpython setup.py bdist_wheel\u001b[0m did not run successfully.\n",
      "  \u001b[31m│\u001b[0m exit code: \u001b[1;36m1\u001b[0m\n",
      "  \u001b[31m╰─>\u001b[0m \u001b[31m[22 lines of output]\u001b[0m\n",
      "  \u001b[31m   \u001b[0m /tmp/pip-install-3_hxqwsu/hiredis_25ded60370f6415f97e4c2d7ece26b64/setup.py:7: DeprecationWarning: the imp module is deprecated in favour of importlib and slated for removal in Python 3.12; see the module's documentation for alternative uses\n",
      "  \u001b[31m   \u001b[0m   import sys, imp, os, glob, io\n",
      "  \u001b[31m   \u001b[0m /opt/conda/lib/python3.10/site-packages/setuptools/dist.py:771: UserWarning: Usage of dash-separated 'description-file' will not be supported in future versions. Please use the underscore name 'description_file' instead\n",
      "  \u001b[31m   \u001b[0m   warnings.warn(\n",
      "  \u001b[31m   \u001b[0m running bdist_wheel\n",
      "  \u001b[31m   \u001b[0m running build\n",
      "  \u001b[31m   \u001b[0m running build_py\n",
      "  \u001b[31m   \u001b[0m creating build\n",
      "  \u001b[31m   \u001b[0m creating build/lib.linux-aarch64-cpython-310\n",
      "  \u001b[31m   \u001b[0m creating build/lib.linux-aarch64-cpython-310/hiredis\n",
      "  \u001b[31m   \u001b[0m copying hiredis/__init__.py -> build/lib.linux-aarch64-cpython-310/hiredis\n",
      "  \u001b[31m   \u001b[0m copying hiredis/version.py -> build/lib.linux-aarch64-cpython-310/hiredis\n",
      "  \u001b[31m   \u001b[0m copying hiredis/hiredis.pyi -> build/lib.linux-aarch64-cpython-310/hiredis\n",
      "  \u001b[31m   \u001b[0m copying hiredis/py.typed -> build/lib.linux-aarch64-cpython-310/hiredis\n",
      "  \u001b[31m   \u001b[0m running build_ext\n",
      "  \u001b[31m   \u001b[0m building 'hiredis.hiredis' extension\n",
      "  \u001b[31m   \u001b[0m creating build/temp.linux-aarch64-cpython-310\n",
      "  \u001b[31m   \u001b[0m creating build/temp.linux-aarch64-cpython-310/src\n",
      "  \u001b[31m   \u001b[0m creating build/temp.linux-aarch64-cpython-310/vendor\n",
      "  \u001b[31m   \u001b[0m creating build/temp.linux-aarch64-cpython-310/vendor/hiredis\n",
      "  \u001b[31m   \u001b[0m gcc -pthread -B /opt/conda/compiler_compat -Wno-unused-result -Wsign-compare -DNDEBUG -fwrapv -O3 -Wall -fPIC -O3 -isystem /opt/conda/include -fPIC -O3 -isystem /opt/conda/include -fPIC -Ivendor -I/opt/conda/include/python3.10 -c src/hiredis.c -o build/temp.linux-aarch64-cpython-310/src/hiredis.o\n",
      "  \u001b[31m   \u001b[0m error: command 'gcc' failed: No such file or directory\n",
      "  \u001b[31m   \u001b[0m \u001b[31m[end of output]\u001b[0m\n",
      "  \n",
      "  \u001b[1;35mnote\u001b[0m: This error originates from a subprocess, and is likely not a problem with pip.\n",
      "\u001b[31m  ERROR: Failed building wheel for hiredis\u001b[0m\u001b[31m\n",
      "\u001b[0m\u001b[?25h  Running setup.py clean for hiredis\n",
      "  Building wheel for mmh3 (setup.py) ... \u001b[?25lerror\n",
      "  \u001b[1;31merror\u001b[0m: \u001b[1msubprocess-exited-with-error\u001b[0m\n",
      "  \n",
      "  \u001b[31m×\u001b[0m \u001b[32mpython setup.py bdist_wheel\u001b[0m did not run successfully.\n",
      "  \u001b[31m│\u001b[0m exit code: \u001b[1;36m1\u001b[0m\n",
      "  \u001b[31m╰─>\u001b[0m \u001b[31m[8 lines of output]\u001b[0m\n",
      "  \u001b[31m   \u001b[0m running bdist_wheel\n",
      "  \u001b[31m   \u001b[0m running build\n",
      "  \u001b[31m   \u001b[0m running build_ext\n",
      "  \u001b[31m   \u001b[0m building 'mmh3' extension\n",
      "  \u001b[31m   \u001b[0m creating build\n",
      "  \u001b[31m   \u001b[0m creating build/temp.linux-aarch64-cpython-310\n",
      "  \u001b[31m   \u001b[0m gcc -pthread -B /opt/conda/compiler_compat -Wno-unused-result -Wsign-compare -DNDEBUG -fwrapv -O3 -Wall -fPIC -O3 -isystem /opt/conda/include -fPIC -O3 -isystem /opt/conda/include -fPIC -I/opt/conda/include/python3.10 -c MurmurHash3.cpp -o build/temp.linux-aarch64-cpython-310/MurmurHash3.o\n",
      "  \u001b[31m   \u001b[0m error: command 'gcc' failed: No such file or directory\n",
      "  \u001b[31m   \u001b[0m \u001b[31m[end of output]\u001b[0m\n",
      "  \n",
      "  \u001b[1;35mnote\u001b[0m: This error originates from a subprocess, and is likely not a problem with pip.\n",
      "\u001b[31m  ERROR: Failed building wheel for mmh3\u001b[0m\u001b[31m\n",
      "\u001b[0m\u001b[?25h  Running setup.py clean for mmh3\n",
      "Successfully built feature-store\n",
      "Failed to build hiredis mmh3\n",
      "Installing collected packages: mmh3, appdirs, wrapt, websockets, uvloop, typeguard, toml, tenacity, tabulate, sqlalchemy2-stubs, rsa, PyYAML, python-dotenv, pygments, pydantic, pyasn1-modules, protobuf, numpy, mypy, locket, httptools, hiredis, h11, grpcio, google-crc32c, fsspec, fissix, fastavro, dill, cloudpickle, click, cachetools, async-timeout, absl-py, watchfiles, uvicorn, starlette, pyarrow, proto-plus, partd, pandas, moreorless, ipython, grpcio-reflection, googleapis-common-protos, google-resumable-media, google-auth, deprecated, tensorflow-metadata, redis, pandavro, grpcio-status, google-api-core, fastapi, dask, bowler, google-cloud-core, feast, google-cloud-storage, google-cloud-datastore, google-cloud-bigquery-storage, google-cloud-bigquery, feature-store\n",
      "  Running setup.py install for mmh3 ... \u001b[?25lerror\n",
      "  \u001b[1;31merror\u001b[0m: \u001b[1msubprocess-exited-with-error\u001b[0m\n",
      "  \n",
      "  \u001b[31m×\u001b[0m \u001b[32mRunning setup.py install for mmh3\u001b[0m did not run successfully.\n",
      "  \u001b[31m│\u001b[0m exit code: \u001b[1;36m1\u001b[0m\n",
      "  \u001b[31m╰─>\u001b[0m \u001b[31m[10 lines of output]\u001b[0m\n",
      "  \u001b[31m   \u001b[0m running install\n",
      "  \u001b[31m   \u001b[0m /opt/conda/lib/python3.10/site-packages/setuptools/command/install.py:34: SetuptoolsDeprecationWarning: setup.py install is deprecated. Use build and pip and other standards-based tools.\n",
      "  \u001b[31m   \u001b[0m   warnings.warn(\n",
      "  \u001b[31m   \u001b[0m running build\n",
      "  \u001b[31m   \u001b[0m running build_ext\n",
      "  \u001b[31m   \u001b[0m building 'mmh3' extension\n",
      "  \u001b[31m   \u001b[0m creating build\n",
      "  \u001b[31m   \u001b[0m creating build/temp.linux-aarch64-cpython-310\n",
      "  \u001b[31m   \u001b[0m gcc -pthread -B /opt/conda/compiler_compat -Wno-unused-result -Wsign-compare -DNDEBUG -fwrapv -O3 -Wall -fPIC -O3 -isystem /opt/conda/include -fPIC -O3 -isystem /opt/conda/include -fPIC -I/opt/conda/include/python3.10 -c MurmurHash3.cpp -o build/temp.linux-aarch64-cpython-310/MurmurHash3.o\n",
      "  \u001b[31m   \u001b[0m error: command 'gcc' failed: No such file or directory\n",
      "  \u001b[31m   \u001b[0m \u001b[31m[end of output]\u001b[0m\n",
      "  \n",
      "  \u001b[1;35mnote\u001b[0m: This error originates from a subprocess, and is likely not a problem with pip.\n",
      "\u001b[1;31merror\u001b[0m: \u001b[1mlegacy-install-failure\u001b[0m\n",
      "\n",
      "\u001b[31m×\u001b[0m Encountered error while trying to install package.\n",
      "\u001b[31m╰─>\u001b[0m mmh3\n",
      "\n",
      "\u001b[1;35mnote\u001b[0m: This is an issue with the package mentioned above, not pip.\n",
      "\u001b[1;36mhint\u001b[0m: See above for output from the failure.\n",
      "\u001b[?25h"
     ]
    }
   ],
   "source": [
    "!pip install -U ."
   ]
  },
  {
   "cell_type": "markdown",
   "metadata": {},
   "source": [
    "**After running this cells, you may need to restart the runtime to continue** (Runtime > Restart runtime.)"
   ]
  },
  {
   "cell_type": "markdown",
   "metadata": {
    "id": "6cJFAJiuGxM3"
   },
   "source": [
    "# Fetching Historical Data\n",
    "\n",
    "Now that our Feast feature store has been provisioned and GCP infra is ready to go, we can use Feast to generate a training dataset. To do this, we need an entity dataframe, alongside the list of features we want.\n",
    "\n",
    "To make things simpler, we use the [`DataFetcher`](utils/data_fetcher.py) class that wraps Feast."
   ]
  },
  {
   "cell_type": "code",
   "execution_count": 1,
   "metadata": {},
   "outputs": [
    {
     "ename": "ModuleNotFoundError",
     "evalue": "No module named 'pandas'",
     "output_type": "error",
     "traceback": [
      "\u001b[0;31m---------------------------------------------------------------------------\u001b[0m",
      "\u001b[0;31mModuleNotFoundError\u001b[0m                       Traceback (most recent call last)",
      "Cell \u001b[0;32mIn [1], line 2\u001b[0m\n\u001b[1;32m      1\u001b[0m \u001b[38;5;28;01mfrom\u001b[39;00m \u001b[38;5;21;01mfeature_store\u001b[39;00m\u001b[38;5;21;01m.\u001b[39;00m\u001b[38;5;21;01mrepo\u001b[39;00m \u001b[38;5;28;01mimport\u001b[39;00m config\n\u001b[0;32m----> 2\u001b[0m \u001b[38;5;28;01mfrom\u001b[39;00m \u001b[38;5;21;01mfeature_store\u001b[39;00m\u001b[38;5;21;01m.\u001b[39;00m\u001b[38;5;21;01mutils\u001b[39;00m \u001b[38;5;28;01mimport\u001b[39;00m (\n\u001b[1;32m      3\u001b[0m     DataFetcher,\n\u001b[1;32m      4\u001b[0m     ModelRepo,\n\u001b[1;32m      5\u001b[0m     storage\n\u001b[1;32m      6\u001b[0m )\n\u001b[1;32m      8\u001b[0m \u001b[38;5;66;03m# Load fs\u001b[39;00m\n\u001b[1;32m      9\u001b[0m fs \u001b[38;5;241m=\u001b[39m storage\u001b[38;5;241m.\u001b[39mget_feature_store(\n\u001b[1;32m     10\u001b[0m     config_path\u001b[38;5;241m=\u001b[39mconfig\u001b[38;5;241m.\u001b[39mREPO_CONFIG,\n\u001b[1;32m     11\u001b[0m     bucket_name\u001b[38;5;241m=\u001b[39mconfig\u001b[38;5;241m.\u001b[39mBUCKET_NAME\n\u001b[1;32m     12\u001b[0m )\n",
      "File \u001b[0;32m~/work/feature_store/utils/__init__.py:1\u001b[0m\n\u001b[0;32m----> 1\u001b[0m \u001b[38;5;28;01mfrom\u001b[39;00m \u001b[38;5;21;01m.\u001b[39;00m\u001b[38;5;21;01mdata_fetcher\u001b[39;00m \u001b[38;5;28;01mimport\u001b[39;00m DataFetcher\n\u001b[1;32m      2\u001b[0m \u001b[38;5;28;01mfrom\u001b[39;00m \u001b[38;5;21;01m.\u001b[39;00m\u001b[38;5;21;01mmodel_repo\u001b[39;00m \u001b[38;5;28;01mimport\u001b[39;00m ModelRepo\n",
      "File \u001b[0;32m~/work/feature_store/utils/data_fetcher.py:1\u001b[0m\n\u001b[0;32m----> 1\u001b[0m \u001b[38;5;28;01mimport\u001b[39;00m \u001b[38;5;21;01mpandas\u001b[39;00m \u001b[38;5;28;01mas\u001b[39;00m \u001b[38;5;21;01mpd\u001b[39;00m\n\u001b[1;32m      3\u001b[0m \u001b[38;5;28;01mfrom\u001b[39;00m \u001b[38;5;21;01mfeast\u001b[39;00m \u001b[38;5;28;01mimport\u001b[39;00m FeatureStore\n\u001b[1;32m      4\u001b[0m \u001b[38;5;28;01mfrom\u001b[39;00m \u001b[38;5;21;01mtyping\u001b[39;00m \u001b[38;5;28;01mimport\u001b[39;00m Optional\n",
      "\u001b[0;31mModuleNotFoundError\u001b[0m: No module named 'pandas'"
     ]
    }
   ],
   "source": [
    "from feature_store.repo import config\n",
    "from feature_store.utils import (\n",
    "    DataFetcher,\n",
    "    ModelRepo,\n",
    "    storage\n",
    ")\n",
    "\n",
    "# Load fs\n",
    "fs = storage.get_feature_store(\n",
    "    config_path=config.REPO_CONFIG,\n",
    "    bucket_name=config.BUCKET_NAME\n",
    ")\n",
    "\n",
    "# Load data fetcher\n",
    "data_fetcher = DataFetcher(fs)"
   ]
  },
  {
   "cell_type": "code",
   "execution_count": 4,
   "metadata": {
    "colab": {
     "base_uri": "https://localhost:8080/",
     "height": 330
    },
    "id": "BqgiEP2Oz42q",
    "outputId": "40552317-644b-4ee6-d735-0ee5e48e79dd"
   },
   "outputs": [],
   "source": [
    "# Fetch Historical Training Data\n",
    "ds = data_fetcher.get_training_data(\n",
    "    entity_query=f\"\"\"\n",
    "        select\n",
    "            state,\n",
    "            date as event_timestamp\n",
    "        from\n",
    "            {config.BIGQUERY_DATASET_NAME}.{config.WEEKLY_VACCINATIONS_TABLE}\n",
    "    \"\"\"\n",
    ")\n",
    "\n",
    "# Clean up any nulls\n",
    "ds.dropna(inplace=True)\n",
    "ds.sort_values(['event_timestamp', 'state'], axis=0, inplace=True)"
   ]
  },
  {
   "cell_type": "code",
   "execution_count": 5,
   "metadata": {},
   "outputs": [],
   "source": [
    "virginia = ds[ds.state == 'Virginia']"
   ]
  },
  {
   "cell_type": "code",
   "execution_count": 6,
   "metadata": {},
   "outputs": [
    {
     "data": {
      "text/html": [
       "<div>\n",
       "<style scoped>\n",
       "    .dataframe tbody tr th:only-of-type {\n",
       "        vertical-align: middle;\n",
       "    }\n",
       "\n",
       "    .dataframe tbody tr th {\n",
       "        vertical-align: top;\n",
       "    }\n",
       "\n",
       "    .dataframe thead th {\n",
       "        text-align: right;\n",
       "    }\n",
       "</style>\n",
       "<table border=\"1\" class=\"dataframe\">\n",
       "  <thead>\n",
       "    <tr style=\"text-align: right;\">\n",
       "      <th></th>\n",
       "      <th>state</th>\n",
       "      <th>event_timestamp</th>\n",
       "      <th>lag_1_vaccine_interest</th>\n",
       "      <th>lag_2_vaccine_interest</th>\n",
       "      <th>lag_1_vaccine_intent</th>\n",
       "      <th>lag_2_vaccine_intent</th>\n",
       "      <th>lag_1_vaccine_safety</th>\n",
       "      <th>lag_2_vaccine_safety</th>\n",
       "      <th>lag_1_weekly_vaccinations_count</th>\n",
       "      <th>lag_2_weekly_vaccinations_count</th>\n",
       "      <th>weekly_vaccinations_count</th>\n",
       "    </tr>\n",
       "  </thead>\n",
       "  <tbody>\n",
       "    <tr>\n",
       "      <th>2770</th>\n",
       "      <td>Virginia</td>\n",
       "      <td>2021-01-25 00:00:00+00:00</td>\n",
       "      <td>62.549712</td>\n",
       "      <td>64.178025</td>\n",
       "      <td>22.662099</td>\n",
       "      <td>25.802051</td>\n",
       "      <td>9.102064</td>\n",
       "      <td>8.580120</td>\n",
       "      <td>152933</td>\n",
       "      <td>115553.0</td>\n",
       "      <td>329892.0</td>\n",
       "    </tr>\n",
       "    <tr>\n",
       "      <th>2840</th>\n",
       "      <td>Virginia</td>\n",
       "      <td>2021-02-01 00:00:00+00:00</td>\n",
       "      <td>59.771108</td>\n",
       "      <td>62.549712</td>\n",
       "      <td>23.881589</td>\n",
       "      <td>22.662099</td>\n",
       "      <td>9.060282</td>\n",
       "      <td>9.102064</td>\n",
       "      <td>329892</td>\n",
       "      <td>152933.0</td>\n",
       "      <td>278811.0</td>\n",
       "    </tr>\n",
       "    <tr>\n",
       "      <th>2839</th>\n",
       "      <td>Virginia</td>\n",
       "      <td>2021-02-08 00:00:00+00:00</td>\n",
       "      <td>71.490393</td>\n",
       "      <td>59.771108</td>\n",
       "      <td>35.214495</td>\n",
       "      <td>23.881589</td>\n",
       "      <td>11.884993</td>\n",
       "      <td>9.060282</td>\n",
       "      <td>278811</td>\n",
       "      <td>329892.0</td>\n",
       "      <td>266744.0</td>\n",
       "    </tr>\n",
       "    <tr>\n",
       "      <th>2773</th>\n",
       "      <td>Virginia</td>\n",
       "      <td>2021-02-15 00:00:00+00:00</td>\n",
       "      <td>67.818582</td>\n",
       "      <td>71.490393</td>\n",
       "      <td>34.463701</td>\n",
       "      <td>35.214495</td>\n",
       "      <td>12.675395</td>\n",
       "      <td>11.884993</td>\n",
       "      <td>266744</td>\n",
       "      <td>278811.0</td>\n",
       "      <td>318139.0</td>\n",
       "    </tr>\n",
       "    <tr>\n",
       "      <th>2822</th>\n",
       "      <td>Virginia</td>\n",
       "      <td>2021-02-22 00:00:00+00:00</td>\n",
       "      <td>72.135382</td>\n",
       "      <td>67.818582</td>\n",
       "      <td>34.295162</td>\n",
       "      <td>34.463701</td>\n",
       "      <td>14.205749</td>\n",
       "      <td>12.675395</td>\n",
       "      <td>318139</td>\n",
       "      <td>266744.0</td>\n",
       "      <td>344859.0</td>\n",
       "    </tr>\n",
       "  </tbody>\n",
       "</table>\n",
       "</div>"
      ],
      "text/plain": [
       "         state           event_timestamp  lag_1_vaccine_interest  \\\n",
       "2770  Virginia 2021-01-25 00:00:00+00:00               62.549712   \n",
       "2840  Virginia 2021-02-01 00:00:00+00:00               59.771108   \n",
       "2839  Virginia 2021-02-08 00:00:00+00:00               71.490393   \n",
       "2773  Virginia 2021-02-15 00:00:00+00:00               67.818582   \n",
       "2822  Virginia 2021-02-22 00:00:00+00:00               72.135382   \n",
       "\n",
       "      lag_2_vaccine_interest  lag_1_vaccine_intent  lag_2_vaccine_intent  \\\n",
       "2770               64.178025             22.662099             25.802051   \n",
       "2840               62.549712             23.881589             22.662099   \n",
       "2839               59.771108             35.214495             23.881589   \n",
       "2773               71.490393             34.463701             35.214495   \n",
       "2822               67.818582             34.295162             34.463701   \n",
       "\n",
       "      lag_1_vaccine_safety  lag_2_vaccine_safety  \\\n",
       "2770              9.102064              8.580120   \n",
       "2840              9.060282              9.102064   \n",
       "2839             11.884993              9.060282   \n",
       "2773             12.675395             11.884993   \n",
       "2822             14.205749             12.675395   \n",
       "\n",
       "      lag_1_weekly_vaccinations_count  lag_2_weekly_vaccinations_count  \\\n",
       "2770                           152933                         115553.0   \n",
       "2840                           329892                         152933.0   \n",
       "2839                           278811                         329892.0   \n",
       "2773                           266744                         278811.0   \n",
       "2822                           318139                         266744.0   \n",
       "\n",
       "      weekly_vaccinations_count  \n",
       "2770                   329892.0  \n",
       "2840                   278811.0  \n",
       "2839                   266744.0  \n",
       "2773                   318139.0  \n",
       "2822                   344859.0  "
      ]
     },
     "execution_count": 6,
     "metadata": {},
     "output_type": "execute_result"
    }
   ],
   "source": [
    "virginia.head()"
   ]
  },
  {
   "cell_type": "code",
   "execution_count": 7,
   "metadata": {},
   "outputs": [
    {
     "data": {
      "text/html": [
       "<div>\n",
       "<style scoped>\n",
       "    .dataframe tbody tr th:only-of-type {\n",
       "        vertical-align: middle;\n",
       "    }\n",
       "\n",
       "    .dataframe tbody tr th {\n",
       "        vertical-align: top;\n",
       "    }\n",
       "\n",
       "    .dataframe thead th {\n",
       "        text-align: right;\n",
       "    }\n",
       "</style>\n",
       "<table border=\"1\" class=\"dataframe\">\n",
       "  <thead>\n",
       "    <tr style=\"text-align: right;\">\n",
       "      <th></th>\n",
       "      <th>state</th>\n",
       "      <th>event_timestamp</th>\n",
       "      <th>lag_1_vaccine_interest</th>\n",
       "      <th>lag_2_vaccine_interest</th>\n",
       "      <th>lag_1_vaccine_intent</th>\n",
       "      <th>lag_2_vaccine_intent</th>\n",
       "      <th>lag_1_vaccine_safety</th>\n",
       "      <th>lag_2_vaccine_safety</th>\n",
       "      <th>lag_1_weekly_vaccinations_count</th>\n",
       "      <th>lag_2_weekly_vaccinations_count</th>\n",
       "      <th>weekly_vaccinations_count</th>\n",
       "    </tr>\n",
       "  </thead>\n",
       "  <tbody>\n",
       "    <tr>\n",
       "      <th>2788</th>\n",
       "      <td>Virginia</td>\n",
       "      <td>2022-09-12 00:00:00+00:00</td>\n",
       "      <td>10.72945</td>\n",
       "      <td>11.383411</td>\n",
       "      <td>1.831109</td>\n",
       "      <td>2.094199</td>\n",
       "      <td>1.352006</td>\n",
       "      <td>1.276527</td>\n",
       "      <td>40297</td>\n",
       "      <td>55661.0</td>\n",
       "      <td>93861.0</td>\n",
       "    </tr>\n",
       "    <tr>\n",
       "      <th>2785</th>\n",
       "      <td>Virginia</td>\n",
       "      <td>2022-09-19 00:00:00+00:00</td>\n",
       "      <td>10.72945</td>\n",
       "      <td>11.383411</td>\n",
       "      <td>1.831109</td>\n",
       "      <td>2.094199</td>\n",
       "      <td>1.352006</td>\n",
       "      <td>1.276527</td>\n",
       "      <td>93861</td>\n",
       "      <td>40297.0</td>\n",
       "      <td>119960.0</td>\n",
       "    </tr>\n",
       "    <tr>\n",
       "      <th>2778</th>\n",
       "      <td>Virginia</td>\n",
       "      <td>2022-09-26 00:00:00+00:00</td>\n",
       "      <td>10.72945</td>\n",
       "      <td>11.383411</td>\n",
       "      <td>1.831109</td>\n",
       "      <td>2.094199</td>\n",
       "      <td>1.352006</td>\n",
       "      <td>1.276527</td>\n",
       "      <td>119960</td>\n",
       "      <td>93861.0</td>\n",
       "      <td>132883.0</td>\n",
       "    </tr>\n",
       "    <tr>\n",
       "      <th>2794</th>\n",
       "      <td>Virginia</td>\n",
       "      <td>2022-10-03 00:00:00+00:00</td>\n",
       "      <td>10.72945</td>\n",
       "      <td>11.383411</td>\n",
       "      <td>1.831109</td>\n",
       "      <td>2.094199</td>\n",
       "      <td>1.352006</td>\n",
       "      <td>1.276527</td>\n",
       "      <td>132883</td>\n",
       "      <td>119960.0</td>\n",
       "      <td>147406.0</td>\n",
       "    </tr>\n",
       "    <tr>\n",
       "      <th>2805</th>\n",
       "      <td>Virginia</td>\n",
       "      <td>2022-10-10 00:00:00+00:00</td>\n",
       "      <td>10.72945</td>\n",
       "      <td>11.383411</td>\n",
       "      <td>1.831109</td>\n",
       "      <td>2.094199</td>\n",
       "      <td>1.352006</td>\n",
       "      <td>1.276527</td>\n",
       "      <td>147406</td>\n",
       "      <td>132883.0</td>\n",
       "      <td>43433.0</td>\n",
       "    </tr>\n",
       "  </tbody>\n",
       "</table>\n",
       "</div>"
      ],
      "text/plain": [
       "         state           event_timestamp  lag_1_vaccine_interest  \\\n",
       "2788  Virginia 2022-09-12 00:00:00+00:00                10.72945   \n",
       "2785  Virginia 2022-09-19 00:00:00+00:00                10.72945   \n",
       "2778  Virginia 2022-09-26 00:00:00+00:00                10.72945   \n",
       "2794  Virginia 2022-10-03 00:00:00+00:00                10.72945   \n",
       "2805  Virginia 2022-10-10 00:00:00+00:00                10.72945   \n",
       "\n",
       "      lag_2_vaccine_interest  lag_1_vaccine_intent  lag_2_vaccine_intent  \\\n",
       "2788               11.383411              1.831109              2.094199   \n",
       "2785               11.383411              1.831109              2.094199   \n",
       "2778               11.383411              1.831109              2.094199   \n",
       "2794               11.383411              1.831109              2.094199   \n",
       "2805               11.383411              1.831109              2.094199   \n",
       "\n",
       "      lag_1_vaccine_safety  lag_2_vaccine_safety  \\\n",
       "2788              1.352006              1.276527   \n",
       "2785              1.352006              1.276527   \n",
       "2778              1.352006              1.276527   \n",
       "2794              1.352006              1.276527   \n",
       "2805              1.352006              1.276527   \n",
       "\n",
       "      lag_1_weekly_vaccinations_count  lag_2_weekly_vaccinations_count  \\\n",
       "2788                            40297                          55661.0   \n",
       "2785                            93861                          40297.0   \n",
       "2778                           119960                          93861.0   \n",
       "2794                           132883                         119960.0   \n",
       "2805                           147406                         132883.0   \n",
       "\n",
       "      weekly_vaccinations_count  \n",
       "2788                    93861.0  \n",
       "2785                   119960.0  \n",
       "2778                   132883.0  \n",
       "2794                   147406.0  \n",
       "2805                    43433.0  "
      ]
     },
     "execution_count": 7,
     "metadata": {},
     "output_type": "execute_result"
    }
   ],
   "source": [
    "virginia.tail()"
   ]
  },
  {
   "cell_type": "code",
   "execution_count": 8,
   "metadata": {},
   "outputs": [
    {
     "data": {
      "text/plain": [
       "count        90.000000\n",
       "mean     195566.522222\n",
       "std      154582.415775\n",
       "min       16943.000000\n",
       "25%       79666.750000\n",
       "50%      145087.500000\n",
       "75%      291563.250000\n",
       "max      644252.000000\n",
       "Name: weekly_vaccinations_count, dtype: float64"
      ]
     },
     "execution_count": 8,
     "metadata": {},
     "output_type": "execute_result"
    }
   ],
   "source": [
    "virginia.weekly_vaccinations_count.describe()"
   ]
  },
  {
   "cell_type": "code",
   "execution_count": 9,
   "metadata": {},
   "outputs": [
    {
     "data": {
      "text/plain": [
       "<AxesSubplot: xlabel='lag_2_vaccine_interest', ylabel='weekly_vaccinations_count'>"
      ]
     },
     "execution_count": 9,
     "metadata": {},
     "output_type": "execute_result"
    },
    {
     "data": {
      "image/png": "[encoded data removed]",
      "text/plain": [
       "<Figure size 640x480 with 1 Axes>"
      ]
     },
     "metadata": {},
     "output_type": "display_data"
    }
   ],
   "source": [
    "virginia.plot.scatter(y='weekly_vaccinations_count', x='lag_2_vaccine_interest')"
   ]
  },
  {
   "cell_type": "code",
   "execution_count": 10,
   "metadata": {},
   "outputs": [
    {
     "data": {
      "text/plain": [
       "<AxesSubplot: xlabel='lag_2_vaccine_safety', ylabel='weekly_vaccinations_count'>"
      ]
     },
     "execution_count": 10,
     "metadata": {},
     "output_type": "execute_result"
    },
    {
     "data": {
      "image/png": "[encoded data removed]",
      "text/plain": [
       "<Figure size 640x480 with 1 Axes>"
      ]
     },
     "metadata": {},
     "output_type": "display_data"
    }
   ],
   "source": [
    "virginia.plot.scatter(y='weekly_vaccinations_count', x='lag_2_vaccine_safety')"
   ]
  },
  {
   "cell_type": "code",
   "execution_count": 11,
   "metadata": {},
   "outputs": [
    {
     "data": {
      "text/plain": [
       "<AxesSubplot: xlabel='lag_2_vaccine_intent', ylabel='weekly_vaccinations_count'>"
      ]
     },
     "execution_count": 11,
     "metadata": {},
     "output_type": "execute_result"
    },
    {
     "data": {
      "image/png": "[encoded data removed]",
      "text/plain": [
       "<Figure size 640x480 with 1 Axes>"
      ]
     },
     "metadata": {},
     "output_type": "display_data"
    }
   ],
   "source": [
    "virginia.plot.scatter(y='weekly_vaccinations_count', x='lag_2_vaccine_intent')"
   ]
  },
  {
   "cell_type": "code",
   "execution_count": 13,
   "metadata": {},
   "outputs": [
    {
     "data": {
      "text/plain": [
       "<AxesSubplot: xlabel='lag_1_weekly_vaccinations_count', ylabel='weekly_vaccinations_count'>"
      ]
     },
     "execution_count": 13,
     "metadata": {},
     "output_type": "execute_result"
    },
    {
     "data": {
      "image/png": "[encoded data removed]",
      "text/plain": [
       "<Figure size 640x480 with 1 Axes>"
      ]
     },
     "metadata": {},
     "output_type": "display_data"
    }
   ],
   "source": [
    "virginia.plot.scatter(y='weekly_vaccinations_count', x='lag_1_weekly_vaccinations_count')"
   ]
  },
  {
   "cell_type": "markdown",
   "metadata": {
    "id": "3izkr_3sG1hX"
   },
   "source": [
    "## Training a model\n",
    "\n",
    "Now, we can use our features to train a model:"
   ]
  },
  {
   "cell_type": "code",
   "execution_count": 1,
   "metadata": {},
   "outputs": [],
   "source": [
    "from train.main import train_validate\n",
    "from matplotlib import pyplot"
   ]
  },
  {
   "cell_type": "code",
   "execution_count": 2,
   "metadata": {},
   "outputs": [
    {
     "ename": "NameError",
     "evalue": "name 'ds' is not defined",
     "output_type": "error",
     "traceback": [
      "\u001b[0;31m---------------------------------------------------------------------------\u001b[0m",
      "\u001b[0;31mNameError\u001b[0m                                 Traceback (most recent call last)",
      "\u001b[0;32m/var/folders/qz/yvsygb190g762bm8x582x3dh0000gp/T/ipykernel_89841/1360345705.py\u001b[0m in \u001b[0;36m<cell line: 15>\u001b[0;34m()\u001b[0m\n\u001b[1;32m     14\u001b[0m \u001b[0mcolumns\u001b[0m \u001b[0;34m=\u001b[0m \u001b[0;34m[\u001b[0m\u001b[0;34m\"event_timestamp\"\u001b[0m\u001b[0;34m]\u001b[0m \u001b[0;34m+\u001b[0m \u001b[0mfeatures\u001b[0m \u001b[0;34m+\u001b[0m \u001b[0;34m[\u001b[0m\u001b[0;34m\"weekly_vaccinations_count\"\u001b[0m\u001b[0;34m]\u001b[0m\u001b[0;34m\u001b[0m\u001b[0;34m\u001b[0m\u001b[0m\n\u001b[1;32m     15\u001b[0m mae, y, yhat, model = train_validate(\n\u001b[0;32m---> 16\u001b[0;31m     \u001b[0mds\u001b[0m\u001b[0;34m[\u001b[0m\u001b[0mcolumns\u001b[0m\u001b[0;34m]\u001b[0m\u001b[0;34m,\u001b[0m\u001b[0;34m\u001b[0m\u001b[0;34m\u001b[0m\u001b[0m\n\u001b[0m\u001b[1;32m     17\u001b[0m     \u001b[0mn_test_weeks\u001b[0m\u001b[0;34m=\u001b[0m\u001b[0;36m1\u001b[0m\u001b[0;34m,\u001b[0m\u001b[0;34m\u001b[0m\u001b[0;34m\u001b[0m\u001b[0m\n\u001b[1;32m     18\u001b[0m     \u001b[0mtimestamp_column\u001b[0m\u001b[0;34m=\u001b[0m\u001b[0;34m\"event_timestamp\"\u001b[0m\u001b[0;34m\u001b[0m\u001b[0;34m\u001b[0m\u001b[0m\n",
      "\u001b[0;31mNameError\u001b[0m: name 'ds' is not defined"
     ]
    }
   ],
   "source": [
    "features = [\n",
    "    \"state\",\n",
    "    \"lag_1_vaccine_interest\",\n",
    "    \"lag_2_vaccine_interest\",\n",
    "    \"lag_1_vaccine_intent\",\n",
    "    \"lag_2_vaccine_intent\",\n",
    "    \"lag_1_vaccine_safety\",\n",
    "    \"lag_2_vaccine_safety\",\n",
    "    \"lag_1_weekly_vaccinations_count\",\n",
    "    \"lag_2_weekly_vaccinations_count\"\n",
    "]\n",
    "\n",
    "# Train!\n",
    "columns = [\"event_timestamp\"] + features + [\"weekly_vaccinations_count\"]\n",
    "mae, y, yhat, model = train_validate(\n",
    "    ds[columns],\n",
    "    n_test_weeks=1,\n",
    "    timestamp_column=\"event_timestamp\"\n",
    ")\n",
    "\n",
    "\n",
    "# plot expected vs preducted\n",
    "print('MAE: %.3f' % mae)\n",
    "pyplot.plot(y, label='Expected')\n",
    "pyplot.plot(yhat, label='Predicted')\n",
    "pyplot.legend()\n",
    "pyplot.show()"
   ]
  },
  {
   "cell_type": "code",
   "execution_count": null,
   "metadata": {},
   "outputs": [],
   "source": [
    "# Explore feature importance\n",
    "for feature, imp in zip(features, model[-1].feature_importances_):\n",
    "    print(feature, imp)"
   ]
  },
  {
   "cell_type": "markdown",
   "metadata": {
    "id": "66KabUSEHPm1"
   },
   "source": [
    "## Saving and deploying the model\n",
    "\n",
    "First we save the model to storage."
   ]
  },
  {
   "cell_type": "code",
   "execution_count": null,
   "metadata": {
    "colab": {
     "base_uri": "https://localhost:8080/"
    },
    "id": "J6_Xkqa445I0",
    "outputId": "1a56891e-9417-4fe0-c365-1b015c93f4f2"
   },
   "outputs": [],
   "source": [
    "# Use the model repo helper class\n",
    "host, port = config.REDIS_CONNECTION_STRING.split(\":\")\n",
    "model_repo = ModelRepo(host, port, config.REDIS_CONNECTION_STRING, \"vaccine_demand\")\n",
    "model_repo.setup()"
   ]
  },
  {
   "cell_type": "code",
   "execution_count": null,
   "metadata": {
    "colab": {
     "base_uri": "https://localhost:8080/"
    },
    "id": "Pv9Ob_8s47Em",
    "outputId": "6794d620-51ae-42a3-8ddc-8ad91283674a"
   },
   "outputs": [],
   "source": [
    "# Save model\n",
    "\n",
    "version = await model_repo.save_version(model)\n",
    "print(f\"Saved model version {version}\")"
   ]
  },
  {
   "cell_type": "markdown",
   "metadata": {
    "id": "FNVxJpw1HohD"
   },
   "source": [
    "# Low latency inference\n",
    "\n",
    "To make a prediction in real-time, we need to do the following:\n",
    "\n",
    "1. Fetch our features from Redis using the Feast client\n",
    "2. Pass these features to our model\n",
    "3. Return these predictions to the user\n",
    "\n",
    "![Feast landing page, blog post - [Archive].png](data:image/png;base64,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)\n"
   ]
  },
  {
   "cell_type": "code",
   "execution_count": null,
   "metadata": {},
   "outputs": [],
   "source": [
    "# Fetch online feature\n",
    "online_feature = data_fetcher.get_online_data({\"state\": \"Virginia\"})"
   ]
  },
  {
   "cell_type": "code",
   "execution_count": null,
   "metadata": {},
   "outputs": [],
   "source": [
    "# Test the vaccine demand\n",
    "from serve.vaccine_demand import VaccineDemand\n",
    "\n",
    "vaccine_demand = VaccineDemand(model, repo_config, cols=features)"
   ]
  },
  {
   "cell_type": "markdown",
   "metadata": {
    "id": "bHAb2eRyJFKO"
   },
   "source": [
    "## Trouble Shooting\n",
    "\n",
    "\n",
    "### Configure BigQuery permissions\n",
    "\n",
    "You might also need to give your cloud function permission to access your BigQuery dataset. To do this:\n",
    "\n",
    "1. Open your dataset in BigQuery.\n",
    "2. Hover over the plus icon, and click \"share dataset.\"\n",
    "3. In the pop-up, enter your project's service account email. This should be `[PROJECT_ID]@appspot.gserviceaccount.com`. \n",
    "4. Select permission \"Can Edit\" and confirm."
   ]
  },
  {
   "cell_type": "markdown",
   "metadata": {
    "id": "3Q4YGlirJPAo"
   },
   "source": [
    "## Run the workflow\n",
    "\n",
    "If you want to test the workflow manually:\n",
    "\n",
    "1. Open the **Cloud Scheduler** page in the console.\n",
    "2. Click the ‘Run Now’ button in the feast-daily-job row.\n",
    "3. Open the **Cloud Function** page in the console.\n",
    "4. Open your **Cloud Function** (feast-update-features.)\n",
    "5. Open the Logs tab to see the latest run of your cloud function."
   ]
  },
  {
   "cell_type": "markdown",
   "metadata": {
    "id": "wu57c6FkJTCc"
   },
   "source": [
    "# Next steps\n",
    "\n",
    "We have just built an end-to-end system using Feast and Redis Enterprise in GCP.\n",
    "\n",
    "\n",
    "This system generates realtime predictions using up to date feature values from our model.\n",
    "\n",
    "Next steps that you can take after completing this tutorial include:\n",
    "\n",
    "- Check your repo into git to enable collaboration with your team.\n",
    "- Use this tutorial to bootstrap a model for your use case by editing features / model.\n",
    "- Incorporate the code in this tutorial into your company's batch pipelines by creating stages that perform feature creation and materialization."
   ]
  },
  {
   "cell_type": "markdown",
   "metadata": {
    "id": "m4Pu2m4KUrbp"
   },
   "source": [
    "# Cleanup\n",
    "\n",
    "If you want to clean up the resources created during this tutorial, run the following cells:\n"
   ]
  },
  {
   "cell_type": "code",
   "execution_count": 15,
   "metadata": {
    "colab": {
     "base_uri": "https://localhost:8080/"
    },
    "id": "9RK_Kxj2VFQu",
    "outputId": "c6947143-d41b-4ce8-9f14-36c530234eb4"
   },
   "outputs": [
    {
     "name": "stdout",
     "output_type": "stream",
     "text": [
      "Waiting for operation to finish...done.                                        \n",
      "Deleted [projects/nifty-time-353221/locations/us-central1/functions/feast-update-features].\n",
      "\u001b[1;31mERROR:\u001b[0m (gcloud.scheduler.jobs.delete) Please use the location flag to manually specify a location.\n",
      "Tearing down Feast infrastructure\n",
      "Tearing down feature store\n"
     ]
    }
   ],
   "source": [
    "! ./teardown.sh"
   ]
  },
  {
   "cell_type": "code",
   "execution_count": null,
   "metadata": {
    "id": "5EGuKSupu5jN"
   },
   "outputs": [],
   "source": [
    "! echo $config.PROJECT_ID'.'$config.BIGQUERY_DATASET_NAME"
   ]
  }
 ],
 "metadata": {
  "colab": {
   "collapsed_sections": [],
   "name": "Fraud Detection Tutorial",
   "provenance": [],
   "toc_visible": true
  },
  "kernelspec": {
   "display_name": "Python 3 (ipykernel)",
   "language": "python",
   "name": "python3"
  },
  "language_info": {
   "codemirror_mode": {
    "name": "ipython",
    "version": 3
   },
   "file_extension": ".py",
   "mimetype": "text/x-python",
   "name": "python",
   "nbconvert_exporter": "python",
   "pygments_lexer": "ipython3",
   "version": "3.10.6"
  },
  "vscode": {
   "interpreter": {
    "hash": "e1c5a7c9cc0d58080444e081b74a0823c09a12f0209aca730c38726ea6940124"
   }
  }
 },
 "nbformat": 4,
 "nbformat_minor": 4
}
